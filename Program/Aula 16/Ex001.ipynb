{
 "cells": [
  {
   "cell_type": "markdown",
   "id": "a5384494",
   "metadata": {},
   "source": [
    "**[Exercício 1]** Reescreva a função leiaInt() que fizemos, incluindo agora a possibilidade da digitação de um número de tipo inválido. Aproveite e crie também uma função leiaFloat() com a mesma funcionalidade."
   ]
  },
  {
   "cell_type": "code",
   "execution_count": 1,
   "id": "d58c4daf",
   "metadata": {},
   "outputs": [],
   "source": [
    "def leiaInt():\n",
    "    while True:\n",
    "        try:\n",
    "            valor = int(input(\"Digite um valor inteiro:\"))\n",
    "        \n",
    "        except (ValueError, TypeError):\n",
    "            print(\"\\033[31mErro\\033[m: por favor, informe um número INTEIRO válido.\")\n",
    "            continue\n",
    "            \n",
    "        except (KeyboardInterrupt):\n",
    "            print(\"Entrada de dados interrompida pelo usuário!\")\n",
    "            return 0\n",
    "\n",
    "        else:\n",
    "            return valor"
   ]
  },
  {
   "cell_type": "code",
   "execution_count": 2,
   "id": "770f53d4",
   "metadata": {},
   "outputs": [],
   "source": [
    "def leiaFloat():\n",
    "    while True:\n",
    "        try:\n",
    "            valor = float(input(\"Digite um valor real:\"))\n",
    "        \n",
    "        except (ValueError, TypeError):\n",
    "            print(\"\\033[31mErro\\033[m: por favor, informe um número REAL válido.\")\n",
    "            continue\n",
    "            \n",
    "        except (KeyboardInterrupt):\n",
    "            print(\"Entrada de dados interrompida pelo usuário!\")\n",
    "            return 0\n",
    "\n",
    "        else:\n",
    "            return valor"
   ]
  },
  {
   "cell_type": "code",
   "execution_count": 4,
   "id": "123f90ca",
   "metadata": {},
   "outputs": [
    {
     "name": "stdout",
     "output_type": "stream",
     "text": [
      "Digite um valor inteiro:12.5\n",
      "\u001b[31mErro\u001b[m: por favor, informe um número INTEIRO válido.\n",
      "Digite um valor inteiro:12\n",
      "Digite um valor real:1\n",
      "O valor interger digitado foi 12 e o valor float digitado foi 1.0.\n"
     ]
    }
   ],
   "source": [
    "valor_1 = leiaInt()\n",
    "valor_2 = leiaFloat()\n",
    "print(f\"O valor interger digitado foi {valor_1} e o valor float digitado foi {valor_2}.\")"
   ]
  },
  {
   "cell_type": "code",
   "execution_count": null,
   "id": "ded7535c",
   "metadata": {},
   "outputs": [],
   "source": []
  }
 ],
 "metadata": {
  "kernelspec": {
   "display_name": "Python 3 (ipykernel)",
   "language": "python",
   "name": "python3"
  },
  "language_info": {
   "codemirror_mode": {
    "name": "ipython",
    "version": 3
   },
   "file_extension": ".py",
   "mimetype": "text/x-python",
   "name": "python",
   "nbconvert_exporter": "python",
   "pygments_lexer": "ipython3",
   "version": "3.9.12"
  }
 },
 "nbformat": 4,
 "nbformat_minor": 5
}
