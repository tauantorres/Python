{
 "cells": [
  {
   "cell_type": "markdown",
   "id": "77473aa5",
   "metadata": {},
   "source": [
    "**[Exercício 2]** Crie um pequeno sistema modularizado que permite cadastrar pessoas pelo seu nome e idade em um arquivo de texto simples. O sistema só vai ter 2 opções: \n",
    "1) Cadastrar uma  nova pessoa;<br>\n",
    "2) Listar todas as pessoas cadastradas."
   ]
  },
  {
   "cell_type": "code",
   "execution_count": null,
   "id": "9a6eb127",
   "metadata": {},
   "outputs": [],
   "source": [
    "def cabecalho(txt, tamanho=40):\n",
    "    print(\"=\" * tamanho)\n",
    "    print(f\"{txt:^{tamanho}}\")\n",
    "    print(\"=\" * tamanho)"
   ]
  },
  {
   "cell_type": "code",
   "execution_count": null,
   "id": "9d0f3920",
   "metadata": {},
   "outputs": [],
   "source": [
    "def inputOpcao_1():\n",
    "    while True:\n",
    "        try:\n",
    "            opcao = int(input(\"Sua opção: \"))\n",
    "        except (ValueError, TypeError):\n",
    "            cabecalho(\"\\033[31mErro 1\\033[m: Entrada inválida. Tente novamente\")\n",
    "            continue\n",
    "        else:\n",
    "            return opcao"
   ]
  },
  {
   "cell_type": "code",
   "execution_count": null,
   "id": "93f35473",
   "metadata": {},
   "outputs": [],
   "source": [
    "def inputOpcao_2():\n",
    "    opcao = inputOpcao_1()\n",
    "    while opcao not in range(1, 4):\n",
    "        cabecalho(\"\\033[31mErro 2\\033[m: Escolha um valor válido: [1], [2] ou [3].\")\n",
    "        opcao = inputOpcao_1()    \n",
    "    return opcao"
   ]
  },
  {
   "cell_type": "code",
   "execution_count": null,
   "id": "1704ca1a",
   "metadata": {},
   "outputs": [],
   "source": [
    "def mostrarOpcao(lista, i=1):\n",
    "        for item in lista:\n",
    "            print(f\"[{i}] - {item}\")\n",
    "            i += 1\n",
    "        print(\"=\" * 40)"
   ]
  },
  {
   "cell_type": "code",
   "execution_count": null,
   "id": "389e13a1",
   "metadata": {},
   "outputs": [],
   "source": [
    "def menu(txt, lista, i=1):\n",
    "    cabecalho(txt)\n",
    "    mostrarOpcao(lista)\n",
    "    opcao = inputOpcao_2()\n",
    "    return opcao\n",
    "\n",
    "# TEST MAIN FUNCTION:\n",
    "lista = ['Ver pessoas cadastradas;', 'Cadastrar nova pessoa;', 'Sair do sistema.']\n",
    "while True:\n",
    "    opcao = menu('MENU PRINCIPAL', lista)\n",
    "    if opcao == 1:\n",
    "        cabecalho('OPÇÃO 1')\n",
    "    elif opcao == 2:\n",
    "        cabecalho('OPÇÃO 2')\n",
    "    else:\n",
    "        cabecalho('Saindo do sistema...')\n",
    "        break\n",
    "print(f\"{'< FIM DO PROGRAMA >':=^40}\")\n"
   ]
  },
  {
   "cell_type": "code",
   "execution_count": 7,
   "id": "767dd281",
   "metadata": {},
   "outputs": [],
   "source": [
    "def leiaStr(txt):\n",
    "    while True:\n",
    "        try:\n",
    "            string = str(input(txt)).title().strip()\n",
    "        except (ValueError, TypeError):\n",
    "            print(\"Erro: Tente novamente.\")\n",
    "            continue\n",
    "        else:\n",
    "            if len(string) == 0:\n",
    "                string = 'Desconhecido'\n",
    "                return string\n",
    "                break\n",
    "            else:\n",
    "                return string\n",
    "                break"
   ]
  },
  {
   "cell_type": "code",
   "execution_count": 12,
   "id": "06ad1e65",
   "metadata": {},
   "outputs": [
    {
     "name": "stdout",
     "output_type": "stream",
     "text": [
      "Nome: asbdn\n",
      "O nome digitado foi: Asbdn.\n"
     ]
    }
   ],
   "source": [
    "nome = leiaStr(\"Nome: \")\n",
    "print(f'O nome digitado foi: {nome}.')"
   ]
  },
  {
   "cell_type": "code",
   "execution_count": 18,
   "id": "4253f027",
   "metadata": {},
   "outputs": [
    {
     "name": "stdout",
     "output_type": "stream",
     "text": [
      "\u001b[34mTESTE\u001b[m\n"
     ]
    }
   ],
   "source": [
    "print(\"\\033[34mTESTE\\033[m\")"
   ]
  },
  {
   "cell_type": "code",
   "execution_count": 22,
   "id": "d89bb0d9",
   "metadata": {},
   "outputs": [
    {
     "name": "stdout",
     "output_type": "stream",
     "text": [
      "4\n"
     ]
    }
   ],
   "source": [
    "letras = ('J', 'X', 'M', 'O', 'A', 'K')\n",
    "print(letras.index('A'))"
   ]
  },
  {
   "cell_type": "code",
   "execution_count": null,
   "id": "96b38701",
   "metadata": {},
   "outputs": [],
   "source": [
    "()[]{}"
   ]
  }
 ],
 "metadata": {
  "kernelspec": {
   "display_name": "Python 3 (ipykernel)",
   "language": "python",
   "name": "python3"
  },
  "language_info": {
   "codemirror_mode": {
    "name": "ipython",
    "version": 3
   },
   "file_extension": ".py",
   "mimetype": "text/x-python",
   "name": "python",
   "nbconvert_exporter": "python",
   "pygments_lexer": "ipython3",
   "version": "3.9.12"
  }
 },
 "nbformat": 4,
 "nbformat_minor": 5
}
