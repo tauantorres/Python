{
 "cells": [
  {
   "cell_type": "markdown",
   "id": "48c7faf7",
   "metadata": {},
   "source": [
    "# Aula 21\n",
    "# Aprofundamento (Parte III)"
   ]
  },
  {
   "cell_type": "markdown",
   "id": "952072ba",
   "metadata": {},
   "source": [
    "# Comparações Contraintuitivas\n",
    "\n",
    "Existem algumas comparações no Python que não são tão intuitivas quando vemos pela primeira vez, mas que são muito usadas, principalmente por programadores mais experientes.\n",
    "\n",
    "É bom sabermos alguns exemplos e buscar sempre entender o que aquela comparação está buscando verificar.\n",
    "\n",
    "### Exemplo 1:\n",
    "\n",
    "Digamos que você está construindo um sistema de controle de vendas e precisa de algumas informações para fazer o cálculo do resultado da loja no fim de um mês."
   ]
  },
  {
   "cell_type": "code",
   "execution_count": null,
   "id": "baa3506d",
   "metadata": {},
   "outputs": [],
   "source": [
    "# EXEMPLO 1.1\n",
    "\n",
    "faturamento = input('Qual foi o faturamento da loja nesse mês?')\n",
    "custo = input('Qual foi o custo da loja nesse mês?')\n",
    "\n",
    "if faturamento and custo:\n",
    "    lucro = int(faturamento) - int(custo)\n",
    "    print(\"O lucro da loja foi de {} reais\".format(lucro))\n",
    "else:\n",
    "    print('Preencha o faturamento e o custo corretamente')"
   ]
  },
  {
   "cell_type": "code",
   "execution_count": 2,
   "id": "6c88df02",
   "metadata": {},
   "outputs": [
    {
     "name": "stdout",
     "output_type": "stream",
     "text": [
      "Qual foi o faturamento da loja nesse mês?\n",
      "Qual foi o custo da loja nesse mês?\n",
      "Preencha o faturamento e o custo corretamente\n"
     ]
    }
   ],
   "source": [
    "# EXEMPLO 1.2\n",
    "\n",
    "faturamento = input('Qual foi o faturamento da loja nesse mês?')\n",
    "custo = input('Qual foi o custo da loja nesse mês?')\n",
    "\n",
    "if faturamento == '' or custo == '': # Caso o usuário preencha com espaços vazios\n",
    "    print('Preencha o faturamento e o custo corretamente')\n",
    "\n",
    "else:\n",
    "    lucro = int(faturamento) - int(custo)\n",
    "    print(\"O lucro da loja foi de {} reais\".format(lucro))    "
   ]
  },
  {
   "cell_type": "markdown",
   "id": "1304759d",
   "metadata": {},
   "source": [
    "## Parte 2:\n",
    "\n",
    "- Método .join()"
   ]
  },
  {
   "cell_type": "code",
   "execution_count": 6,
   "id": "c6e20341",
   "metadata": {},
   "outputs": [
    {
     "name": "stdout",
     "output_type": "stream",
     "text": [
      "['Create', 'Read', 'Update', 'Delete']\n",
      "Create;\n",
      "Read;\n",
      "Update;\n",
      "Delete\n"
     ]
    }
   ],
   "source": [
    "# EXEMPLO 2\n",
    "\n",
    "opcao = ['Create', 'Read', 'Update', 'Delete']\n",
    "print(';\\n'.join(opcao))"
   ]
  },
  {
   "cell_type": "markdown",
   "id": "a67044fb",
   "metadata": {},
   "source": [
    "## Parte 3:\n",
    "range(5) = [0, 1, 2, 3, 4] "
   ]
  },
  {
   "cell_type": "code",
   "execution_count": 8,
   "id": "d2a50d87",
   "metadata": {},
   "outputs": [
    {
     "name": "stdout",
     "output_type": "stream",
     "text": [
      "coca\n",
      "fanta\n",
      "agua\n",
      "pepsi\n",
      "fanta\n"
     ]
    }
   ],
   "source": [
    "# EXEMPLO 3\n",
    "\n",
    "produtos = ['coca', 'fanta', 'agua', 'pepsi', 'fanta']\n",
    "\n",
    "for item in produtos:\n",
    "    print(item)"
   ]
  },
  {
   "cell_type": "code",
   "execution_count": 11,
   "id": "e3a7b226",
   "metadata": {},
   "outputs": [
    {
     "name": "stdout",
     "output_type": "stream",
     "text": [
      "s e n a c @ g m a i l . c o m "
     ]
    }
   ],
   "source": [
    "# EXEMPLO 4\n",
    "\n",
    "texto = 'senac@gmail.com'\n",
    "\n",
    "for letra in texto:\n",
    "    print(letra, end=' ')"
   ]
  },
  {
   "cell_type": "markdown",
   "id": "48f47a52",
   "metadata": {},
   "source": [
    "## Parte 4:\n",
    "Tuplas unpacking"
   ]
  },
  {
   "cell_type": "code",
   "execution_count": 12,
   "id": "727ca1eb",
   "metadata": {},
   "outputs": [
    {
     "name": "stdout",
     "output_type": "stream",
     "text": [
      "Tauan 27 80.0\n"
     ]
    }
   ],
   "source": [
    "# EXEMPLO 5\n",
    "\n",
    "tupla = ('Tauan', 27, 80.0)\n",
    "nome, idade, peso = tupla\n",
    "print(nome, idade, peso)"
   ]
  },
  {
   "cell_type": "markdown",
   "id": "84b7b9fb",
   "metadata": {},
   "source": [
    "enumerate()"
   ]
  },
  {
   "cell_type": "code",
   "execution_count": 13,
   "id": "8862364f",
   "metadata": {},
   "outputs": [
    {
     "name": "stdout",
     "output_type": "stream",
     "text": [
      "(0, 1000)\n",
      "(1, 2000)\n",
      "(2, 300)\n",
      "(3, 300)\n",
      "(4, 150)\n"
     ]
    }
   ],
   "source": [
    "# EXEMPLO 6\n",
    "\n",
    "vendas = [1000, 2000, 300, 300, 150]\n",
    "funcionarios = ['Tauan', 'Kristina', 'Anouk', 'Kevin', 'Pedro']\n",
    "\n",
    "for item in enumerate(vendas):\n",
    "    print(item)"
   ]
  },
  {
   "cell_type": "markdown",
   "id": "8a1ffbbc",
   "metadata": {},
   "source": [
    "sep = ''"
   ]
  },
  {
   "cell_type": "code",
   "execution_count": 4,
   "id": "4a0d7508",
   "metadata": {},
   "outputs": [
    {
     "name": "stdout",
     "output_type": "stream",
     "text": [
      "texte 1 texto 2 texto 3\n",
      "texte 1\n",
      "texto 2\n",
      "texto 3\n"
     ]
    }
   ],
   "source": [
    "# EXEMPLO 7\n",
    "\n",
    "print('texte 1', 'texto 2', 'texto 3')\n",
    "print('texte 1', 'texto 2', 'texto 3', sep = '\\n')"
   ]
  },
  {
   "cell_type": "code",
   "execution_count": null,
   "id": "4edb0b4d",
   "metadata": {},
   "outputs": [],
   "source": []
  }
 ],
 "metadata": {
  "kernelspec": {
   "display_name": "Python 3 (ipykernel)",
   "language": "python",
   "name": "python3"
  },
  "language_info": {
   "codemirror_mode": {
    "name": "ipython",
    "version": 3
   },
   "file_extension": ".py",
   "mimetype": "text/x-python",
   "name": "python",
   "nbconvert_exporter": "python",
   "pygments_lexer": "ipython3",
   "version": "3.9.12"
  }
 },
 "nbformat": 4,
 "nbformat_minor": 5
}
