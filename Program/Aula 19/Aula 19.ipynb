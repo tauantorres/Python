{
 "cells": [
  {
   "cell_type": "markdown",
   "id": "dc3a0061",
   "metadata": {},
   "source": [
    "# Aula 19\n",
    "\n",
    "## Aprofundamento (Parte II):"
   ]
  },
  {
   "cell_type": "markdown",
   "id": "9545cad3",
   "metadata": {},
   "source": [
    "## Parte 1:\n",
    "### Funções\n",
    "\n",
    "- Apesar de já termos estudado bastate coisa sobre funções, vamos tentar aqui dar uma aprofundada maior no tema. Segue alguns exemplo e tópicos que ainda não foram abordados.\n",
    "- O nome de uma função, pelas 'regras da boa prática', devem seguir um padrão. Eis, então, duas formas que vocês devem aprender que são as mais clássicas:\n",
    "1. Quando possível, dê o nome da sua função usando um verbo, visto que, uma função, nada mais nada menos executa uma ação pelo usuário.\n",
    "2. Se o nome da função for uma ideia com mais de uma palavras, ou você usa underline ('_') para separar as palavras, ou você usa o Camel casa, ou seja, une as palavras sendo a primeira escrita tudo em minusculo e as seguinte a primeira letra em maiúsculo.}\n",
    "\n",
    "- Outras coisa muito importante é que as funções devem estar afastada de todo e qualquer outra função a uma distância de 2 \"enter\". Isso faz parte das regras \"Zen do Python\". Ou seja, ajuda na legibilidade do programa. \n",
    "\n",
    "- As funções que possuem argumentos obrigatórios e não obrigatórios devem seguir uma ordem:\n",
    "1. Primeiro as função que **TEM** argumentos obrigatório;\n",
    "2. Depois as que **NÃO TEM** argumentos obrigatórios."
   ]
  },
  {
   "cell_type": "markdown",
   "id": "7919c796",
   "metadata": {},
   "source": [
    "## Parte 2:\n",
    "### Args \n",
    "- Argumento arbitrário *args - argument;\n",
    "- Essa função recebe argumentos que serão atribuídos dentro de uma tupla."
   ]
  },
  {
   "cell_type": "code",
   "execution_count": 15,
   "id": "dbe157b6",
   "metadata": {},
   "outputs": [
    {
     "name": "stdout",
     "output_type": "stream",
     "text": [
      "==================================================\n",
      "Anúncio: Loja Comercial\n",
      "Quartos: 2\n",
      "Vagas na Garagem: 5\n",
      "Telegones para contato: ('51 6666-6666', '51 3333-3333')\n",
      "==================================================\n",
      "==================================================\n",
      "Anúncio: Cia. & Tia's\n",
      "Quartos: 3\n",
      "Telegones para contato: ('55 1111-1111',)\n",
      "==================================================\n"
     ]
    }
   ],
   "source": [
    "# EXEMPLO 1\n",
    "\n",
    "def imprimirImovel(nomeImovel, numero_quartos, vagasGaragem=None, *telefones):\n",
    "    print(\"=\" * 50)\n",
    "    print(f\"Anúncio: {nomeImovel}\")\n",
    "    print(f\"Quartos: {numero_quartos}\")\n",
    "    if vagasGaragem != None:\n",
    "        print(f\"Vagas na Garagem: {vagasGaragem}\")\n",
    "    print(f\"Telegones para contato: {telefones}\")\n",
    "    print(\"=\" * 50)\n",
    "    \n",
    "# MAIN FUNCTION:\n",
    "imprimirImovel(\"Loja Comercial\", 2, 5, \"51 6666-6666\", \"51 3333-3333\")\n",
    "imprimirImovel(\"Cia. & Tia's\", 3, None, \"55 1111-1111\")"
   ]
  },
  {
   "cell_type": "markdown",
   "id": "49776c30",
   "metadata": {},
   "source": [
    "## Parte 3:\n",
    "### Kwargs \n",
    "- Argumento Arbitrário ** Kwargs - Keyword Arguments;\n",
    "- Essa função recebe argumentos que serão atribuídos como palavras chaves dentro de um dicionário."
   ]
  },
  {
   "cell_type": "code",
   "execution_count": 35,
   "id": "e1684f70",
   "metadata": {},
   "outputs": [
    {
     "name": "stdout",
     "output_type": "stream",
     "text": [
      "{'nome': 'Tauan', 'sobrenome': 'Torres'}\n"
     ]
    }
   ],
   "source": [
    "# EXEMPLO 2\n",
    "\n",
    "def printNome(**nomes):\n",
    "    print(nomes)\n",
    "    \n",
    "printNome(nome=\"Tauan\",  sobrenome=\"Torres\")"
   ]
  },
  {
   "cell_type": "code",
   "execution_count": 18,
   "id": "d6115d1a",
   "metadata": {},
   "outputs": [
    {
     "name": "stdout",
     "output_type": "stream",
     "text": [
      "Nome completo: Tauan Torres\n"
     ]
    }
   ],
   "source": [
    "# EXEMPLO 3\n",
    "\n",
    "def printNome(**nome):\n",
    "    print(f\"Nome completo: {nome['nome']} {nome['sobrenome']}\")\n",
    "    \n",
    "printNome(nome=\"Tauan\",  sobrenome=\"Torres\")"
   ]
  },
  {
   "cell_type": "markdown",
   "id": "88a6520b",
   "metadata": {},
   "source": [
    "## Parte 4:\n",
    "### Recursão \n",
    "\n",
    "Recursão é um tópico bem importante, pricincipalmente para aqueles que entre vocês buscam uma carreira em ciência de dados. A seguir, segue uma lista de alguns site que vocês podem dar uma olhada mais afundo sobre o assunto:\n",
    "1. https://panda.ime.usp.br/pensepy/static/pensepy/12-Recursao/recursionsimple-ptbr.html\n",
    "2. https://academiahopper.com.br/recursao-python/"
   ]
  },
  {
   "cell_type": "code",
   "execution_count": 33,
   "id": "c0e042fd",
   "metadata": {},
   "outputs": [
    {
     "name": "stdout",
     "output_type": "stream",
     "text": [
      "5 4 3 2 1 "
     ]
    }
   ],
   "source": [
    "# EXEMPLO 1\n",
    "\n",
    "def reduzirNumero(numero):\n",
    "    \n",
    "    if numero > 0:\n",
    "        print(numero, end=' ')\n",
    "        reduzirNumero(numero - 1)\n",
    "        \n",
    "reduzirNumero(5)"
   ]
  },
  {
   "cell_type": "code",
   "execution_count": 40,
   "id": "231f89f3",
   "metadata": {},
   "outputs": [
    {
     "data": {
      "text/plain": [
       "6"
      ]
     },
     "execution_count": 40,
     "metadata": {},
     "output_type": "execute_result"
    }
   ],
   "source": [
    "# EXEMPLO 2\n",
    "\n",
    "def fatorial(numero):\n",
    "    if numero == 0:\n",
    "        return 1\n",
    "    else:\n",
    "        return numero*fatorial(numero - 1)\n",
    "    \n",
    "fatorial(3)"
   ]
  },
  {
   "cell_type": "markdown",
   "id": "80f1fd98",
   "metadata": {},
   "source": [
    "## Parte 5:\n",
    "## Módulos\n",
    "\n",
    "### Parte 5.1:\n",
    "\n",
    "- Lembrando que um módulo nada mais é que a leitura de outros arquivos dentros das pastas em que o sistema foi criado. Em outras palavras:\n",
    ">1. **Definição** Módulo - É um arquivo com extensão '.py'. Ou seja, um arquivo Python.\n",
    "- Vejam que criamos um arquivo, com o nome de \"uteis\". E dentro dess arquivo criamos uma função chamada \"parOuImpar\". Ambos estão na mesma pasta, sendo assim podemos importá-los para usar na nossa função principal.\n",
    "\n",
    ">- **DICA**: Uma forma de poder ler tudo o que há dentro de uma biblioteca é:\n",
    ">>    1. Importe a biblioteca, ou seja, escreva lá no início algo como: 'import random';\n",
    ">>    2. Em seguida, segurando o botão de 'Ctrl' vá até o nome da função e clique com o botão      esquerdo no nome da função. O Python abrirá automáticamente o file dessa biblioteca com todas as informações que estão dentro dela."
   ]
  },
  {
   "cell_type": "code",
   "execution_count": 43,
   "id": "7ca3cc05",
   "metadata": {},
   "outputs": [
    {
     "name": "stdout",
     "output_type": "stream",
     "text": [
      "Digite um número: 5\n",
      "Impar\n"
     ]
    }
   ],
   "source": [
    "# EXEMPLO 3\n",
    "\n",
    "import uteis\n",
    "\n",
    "numero = int(input(\"Digite um número: \"))\n",
    "print(uteis.parOuImpar(numero))"
   ]
  },
  {
   "cell_type": "markdown",
   "id": "a0a167b7",
   "metadata": {},
   "source": [
    "### Parte 5.2:\n",
    "- Ainda dentro de funções, saibam de usando apenas o \"import\" você estará importando **TUDO** que tem dentro de uma bibloteca. O que não será muito eficiente, visto que, ao importar todas as bibliotecas, seu projeto pode ficar mais pesado do que o necessário. Em resumo, estariamos fazendo um mal uso da memória do computador.\n",
    "- Por isso, sempre que for importar alguma biblioteca, tente usar aquela forma que já vimos:"
   ]
  },
  {
   "cell_type": "code",
   "execution_count": 48,
   "id": "8d9a95ff",
   "metadata": {},
   "outputs": [
    {
     "name": "stdout",
     "output_type": "stream",
     "text": [
      "Valor aleatório = 10\n"
     ]
    }
   ],
   "source": [
    "# EXEMPLO 4\n",
    "\n",
    "from random import randint\n",
    "\n",
    "numero = randint(1, 10)\n",
    "print(f\"Valor aleatório = {numero}\")"
   ]
  },
  {
   "cell_type": "markdown",
   "id": "413d80fe",
   "metadata": {},
   "source": [
    "### Parte 5.3:\n",
    "Caso você queira importar mais de uma função da mesma biblioteca, você pode criar uma tupla com o nome das respectivas bibliotecas que você necessita:"
   ]
  },
  {
   "cell_type": "code",
   "execution_count": 60,
   "id": "bcf995d6",
   "metadata": {},
   "outputs": [
    {
     "name": "stdout",
     "output_type": "stream",
     "text": [
      "Valor aleatório entre [1; 10] = 8\n",
      "Valor aleatório entra [0; 1) = 0.1321725982422639\n"
     ]
    }
   ],
   "source": [
    "# EXEMPLO 5\n",
    "\n",
    "from random import (randint, random)\n",
    "\n",
    "numero = randint(1, 10)\n",
    "print(f\"Valor aleatório entre [1; 10] = {numero}\")\n",
    "\n",
    "valor = random()\n",
    "print(f\"Valor aleatório entra [0; 1) = {valor}\")"
   ]
  },
  {
   "cell_type": "markdown",
   "id": "b992aa41",
   "metadata": {},
   "source": [
    "### Parte 5.4:\n",
    "Também é possível criar \"apelidos\" para as funções. Ou seja, ao invés de usar o nome completo da função, nós apelidamos elas e usamos os apelidos no lugar do nome original."
   ]
  },
  {
   "cell_type": "code",
   "execution_count": 69,
   "id": "a90adf87",
   "metadata": {},
   "outputs": [
    {
     "name": "stdout",
     "output_type": "stream",
     "text": [
      "Valor aleatório entre [1; 10] = 10\n"
     ]
    }
   ],
   "source": [
    "# EXEMPLO 6 - APELIDANDO A BIBLIOTECA\n",
    "\n",
    "import random as rd\n",
    "\n",
    "numero = rd.randint(1, 10)\n",
    "print(f\"Valor aleatório entre [1; 10] = {numero}\")"
   ]
  },
  {
   "cell_type": "code",
   "execution_count": 70,
   "id": "31b733e6",
   "metadata": {},
   "outputs": [
    {
     "name": "stdout",
     "output_type": "stream",
     "text": [
      "Valor aleatório entre [1; 10] = 1\n"
     ]
    }
   ],
   "source": [
    "# EXEMPLO 7 - APELIDANDO UMA FUNÇÃO\n",
    "\n",
    "from random import randint as rdi\n",
    "\n",
    "numero = rdi(1, 10)\n",
    "print(f\"Valor aleatório entre [1; 10] = {numero}\")"
   ]
  },
  {
   "cell_type": "code",
   "execution_count": 73,
   "id": "a726a060",
   "metadata": {},
   "outputs": [
    {
     "name": "stdout",
     "output_type": "stream",
     "text": [
      "Valor aleatório entre [1; 10] = 7\n",
      "Valor aleatório entra [0; 1) = 0.33546297184622675\n"
     ]
    }
   ],
   "source": [
    "# EXEMPLO 8 - APELIDANDO VÁRIAS FUNÇÃO\n",
    "\n",
    "from random import (randint as rdi, random as rd)\n",
    "\n",
    "numero = rdi(1, 10)\n",
    "print(f\"Valor aleatório entre [1; 10] = {numero}\")\n",
    "\n",
    "valor = rd()\n",
    "print(f\"Valor aleatório entra [0; 1) = {valor}\")"
   ]
  },
  {
   "cell_type": "code",
   "execution_count": 75,
   "id": "a26594b6",
   "metadata": {},
   "outputs": [
    {
     "name": "stdout",
     "output_type": "stream",
     "text": [
      "Valor aleatório entra [0; 1) = 0.7834921198475049\n"
     ]
    }
   ],
   "source": [
    "# EXEMPLO 9\n",
    "\n",
    "from random import * # O asterisco '*' significa importar TUDO. Da mesma forma que\n",
    "                     #            import random == from random import\n",
    "                     # Ou seja, estamos sendo reduntante. Porém, esse exemplo serve \n",
    "                     # apenas para que você saibam da existência dessa funcionalidade.\n",
    "\n",
    "valor = random()\n",
    "print(f\"Valor aleatório entra [0; 1) = {valor}\")                "
   ]
  },
  {
   "cell_type": "markdown",
   "id": "b763fac6",
   "metadata": {},
   "source": [
    "## Parte 6:\n",
    "## Pacotes\n",
    "\n",
    "**Definição** Pacotes: Diretório contendo conjunto de módulos. Ou seja, pastas com vários arquivos python. \n",
    "\n",
    "Na carreira de vocês como desenvolvedores, provavelmente vocês irão precisar muitos tipos de pacotes que provavelmente já foram criados. Ou até mesmo publicar os pacotes que vocês mesmo criaram. Para isso, fortemente recomendo dar uma olhada no seguinte site:\n",
    "1. https://pypi.org/"
   ]
  },
  {
   "cell_type": "markdown",
   "id": "1f631ace",
   "metadata": {},
   "source": [
    "## Parte 7:\n",
    "## Dunder Objects"
   ]
  },
  {
   "cell_type": "code",
   "execution_count": 82,
   "id": "34ab9aae",
   "metadata": {},
   "outputs": [
    {
     "name": "stdout",
     "output_type": "stream",
     "text": [
      "['__call__', '__class__', '__delattr__', '__dict__', '__dir__', '__doc__', '__eq__', '__format__', '__ge__', '__getattribute__', '__gt__', '__hash__', '__init__', '__init_subclass__', '__le__', '__lt__', '__module__', '__ne__', '__new__', '__reduce__', '__reduce_ex__', '__repr__', '__setattr__', '__sizeof__', '__str__', '__subclasshook__', '__weakref__']\n"
     ]
    }
   ],
   "source": [
    "print(dir(help))"
   ]
  },
  {
   "cell_type": "markdown",
   "id": "a928da06",
   "metadata": {},
   "source": [
    "## Parte 7.1:\n",
    "- Como devem ter notado, quase todos os elementos dessa listas estão acompanhados de um duplo underline. Em resumo, isso é o que caracteriza um 'Objeto Dunder'.\n",
    "- **Dunder** - Duplo Underscore - Duplo Urdeline.\n",
    "- Os objetos dunder também são conhecidos como:\n",
    "1. Atributos Mágicos - Variáveis (no paradigma imperativos);\n",
    "2. Métodos Mágicos - Funções (no paradigma imperativo).\n",
    "\n",
    "Ok, mas como esse objetos funcionam e para o quê eles servem?\n",
    "- Eles são funções voltadas para o uso interno do Python."
   ]
  },
  {
   "cell_type": "code",
   "execution_count": 90,
   "id": "a9e4d13f",
   "metadata": {},
   "outputs": [
    {
     "name": "stdout",
     "output_type": "stream",
     "text": [
      "['__add__', '__class__', '__class_getitem__', '__contains__', '__delattr__', '__delitem__', '__dir__', '__doc__', '__eq__', '__format__', '__ge__', '__getattribute__', '__getitem__', '__gt__', '__hash__', '__iadd__', '__imul__', '__init__', '__init_subclass__', '__iter__', '__le__', '__len__', '__lt__', '__mul__', '__ne__', '__new__', '__reduce__', '__reduce_ex__', '__repr__', '__reversed__', '__rmul__', '__setattr__', '__setitem__', '__sizeof__', '__str__', '__subclasshook__', 'append', 'clear', 'copy', 'count', 'extend', 'index', 'insert', 'pop', 'remove', 'reverse', 'sort']\n"
     ]
    }
   ],
   "source": [
    "# EXEMPLO 10\n",
    "\n",
    "lista = []\n",
    "print(dir(lista))"
   ]
  },
  {
   "cell_type": "markdown",
   "id": "9dd462b4",
   "metadata": {},
   "source": [
    "## Parte 7.2:\n",
    "- Observe que ao usar o **dir()** nós obtemos todas as funcionalidades atribuidas a nossa lista. E, como vocês podem observar, também há muitos 'objetos dunder'.\n",
    "- Caso você queira saber melhor o que há dentro desse objeto, basta usar o **help()**."
   ]
  },
  {
   "cell_type": "code",
   "execution_count": 91,
   "id": "49fb18fb",
   "metadata": {},
   "outputs": [
    {
     "name": "stdout",
     "output_type": "stream",
     "text": [
      "Help on class list in module builtins:\n",
      "\n",
      "class list(object)\n",
      " |  list(iterable=(), /)\n",
      " |  \n",
      " |  Built-in mutable sequence.\n",
      " |  \n",
      " |  If no argument is given, the constructor creates a new empty list.\n",
      " |  The argument must be an iterable if specified.\n",
      " |  \n",
      " |  Methods defined here:\n",
      " |  \n",
      " |  __add__(self, value, /)\n",
      " |      Return self+value.\n",
      " |  \n",
      " |  __contains__(self, key, /)\n",
      " |      Return key in self.\n",
      " |  \n",
      " |  __delitem__(self, key, /)\n",
      " |      Delete self[key].\n",
      " |  \n",
      " |  __eq__(self, value, /)\n",
      " |      Return self==value.\n",
      " |  \n",
      " |  __ge__(self, value, /)\n",
      " |      Return self>=value.\n",
      " |  \n",
      " |  __getattribute__(self, name, /)\n",
      " |      Return getattr(self, name).\n",
      " |  \n",
      " |  __getitem__(...)\n",
      " |      x.__getitem__(y) <==> x[y]\n",
      " |  \n",
      " |  __gt__(self, value, /)\n",
      " |      Return self>value.\n",
      " |  \n",
      " |  __iadd__(self, value, /)\n",
      " |      Implement self+=value.\n",
      " |  \n",
      " |  __imul__(self, value, /)\n",
      " |      Implement self*=value.\n",
      " |  \n",
      " |  __init__(self, /, *args, **kwargs)\n",
      " |      Initialize self.  See help(type(self)) for accurate signature.\n",
      " |  \n",
      " |  __iter__(self, /)\n",
      " |      Implement iter(self).\n",
      " |  \n",
      " |  __le__(self, value, /)\n",
      " |      Return self<=value.\n",
      " |  \n",
      " |  __len__(self, /)\n",
      " |      Return len(self).\n",
      " |  \n",
      " |  __lt__(self, value, /)\n",
      " |      Return self<value.\n",
      " |  \n",
      " |  __mul__(self, value, /)\n",
      " |      Return self*value.\n",
      " |  \n",
      " |  __ne__(self, value, /)\n",
      " |      Return self!=value.\n",
      " |  \n",
      " |  __repr__(self, /)\n",
      " |      Return repr(self).\n",
      " |  \n",
      " |  __reversed__(self, /)\n",
      " |      Return a reverse iterator over the list.\n",
      " |  \n",
      " |  __rmul__(self, value, /)\n",
      " |      Return value*self.\n",
      " |  \n",
      " |  __setitem__(self, key, value, /)\n",
      " |      Set self[key] to value.\n",
      " |  \n",
      " |  __sizeof__(self, /)\n",
      " |      Return the size of the list in memory, in bytes.\n",
      " |  \n",
      " |  append(self, object, /)\n",
      " |      Append object to the end of the list.\n",
      " |  \n",
      " |  clear(self, /)\n",
      " |      Remove all items from list.\n",
      " |  \n",
      " |  copy(self, /)\n",
      " |      Return a shallow copy of the list.\n",
      " |  \n",
      " |  count(self, value, /)\n",
      " |      Return number of occurrences of value.\n",
      " |  \n",
      " |  extend(self, iterable, /)\n",
      " |      Extend list by appending elements from the iterable.\n",
      " |  \n",
      " |  index(self, value, start=0, stop=9223372036854775807, /)\n",
      " |      Return first index of value.\n",
      " |      \n",
      " |      Raises ValueError if the value is not present.\n",
      " |  \n",
      " |  insert(self, index, object, /)\n",
      " |      Insert object before index.\n",
      " |  \n",
      " |  pop(self, index=-1, /)\n",
      " |      Remove and return item at index (default last).\n",
      " |      \n",
      " |      Raises IndexError if list is empty or index is out of range.\n",
      " |  \n",
      " |  remove(self, value, /)\n",
      " |      Remove first occurrence of value.\n",
      " |      \n",
      " |      Raises ValueError if the value is not present.\n",
      " |  \n",
      " |  reverse(self, /)\n",
      " |      Reverse *IN PLACE*.\n",
      " |  \n",
      " |  sort(self, /, *, key=None, reverse=False)\n",
      " |      Sort the list in ascending order and return None.\n",
      " |      \n",
      " |      The sort is in-place (i.e. the list itself is modified) and stable (i.e. the\n",
      " |      order of two equal elements is maintained).\n",
      " |      \n",
      " |      If a key function is given, apply it once to each list item and sort them,\n",
      " |      ascending or descending, according to their function values.\n",
      " |      \n",
      " |      The reverse flag can be set to sort in descending order.\n",
      " |  \n",
      " |  ----------------------------------------------------------------------\n",
      " |  Class methods defined here:\n",
      " |  \n",
      " |  __class_getitem__(...) from builtins.type\n",
      " |      See PEP 585\n",
      " |  \n",
      " |  ----------------------------------------------------------------------\n",
      " |  Static methods defined here:\n",
      " |  \n",
      " |  __new__(*args, **kwargs) from builtins.type\n",
      " |      Create and return a new object.  See help(type) for accurate signature.\n",
      " |  \n",
      " |  ----------------------------------------------------------------------\n",
      " |  Data and other attributes defined here:\n",
      " |  \n",
      " |  __hash__ = None\n",
      "\n",
      "None\n"
     ]
    }
   ],
   "source": [
    "# EXEMPLO 11\n",
    "\n",
    "lista = []\n",
    "print(help(lista.__class__))"
   ]
  },
  {
   "cell_type": "markdown",
   "id": "e9bb49f6",
   "metadata": {},
   "source": [
    "## Parte 7.3:\n",
    "- Porém, eu vou listar aqui os objetos dunders principais que seria bom conhecer:\n",
    "1. _ _init_ _ : É a função que é criada 'by default' quando criamos um novo pacote;\n",
    "2. _ _name_ _ : Retorna o nome do pacote;\n",
    "3. _ _main_ _ : Joguem no Google e dêem uma estudada;\n",
    "4. _ _file_ _ : Mostra o caminho até onde o objeto Dunder que você está procurando está salvo;\n",
    "5. _ _doc_ _ : Mostra a documentação do pacote."
   ]
  },
  {
   "cell_type": "code",
   "execution_count": 94,
   "id": "8b93361b",
   "metadata": {},
   "outputs": [
    {
     "name": "stdout",
     "output_type": "stream",
     "text": [
      "Random variable generators.\n",
      "\n",
      "    bytes\n",
      "    -----\n",
      "           uniform bytes (values between 0 and 255)\n",
      "\n",
      "    integers\n",
      "    --------\n",
      "           uniform within range\n",
      "\n",
      "    sequences\n",
      "    ---------\n",
      "           pick random element\n",
      "           pick random sample\n",
      "           pick weighted random sample\n",
      "           generate random permutation\n",
      "\n",
      "    distributions on the real line:\n",
      "    ------------------------------\n",
      "           uniform\n",
      "           triangular\n",
      "           normal (Gaussian)\n",
      "           lognormal\n",
      "           negative exponential\n",
      "           gamma\n",
      "           beta\n",
      "           pareto\n",
      "           Weibull\n",
      "\n",
      "    distributions on the circle (angles 0 to 2pi)\n",
      "    ---------------------------------------------\n",
      "           circular uniform\n",
      "           von Mises\n",
      "\n",
      "General notes on the underlying Mersenne Twister core generator:\n",
      "\n",
      "* The period is 2**19937-1.\n",
      "* It is one of the most extensively tested generators in existence.\n",
      "* The random() method is implemented in C, executes in a single Python step,\n",
      "  and is, therefore, threadsafe.\n",
      "\n",
      "\n"
     ]
    }
   ],
   "source": [
    "# EXEMPLO 12 \n",
    "\n",
    "import random\n",
    "print(random.__doc__)"
   ]
  },
  {
   "cell_type": "code",
   "execution_count": null,
   "id": "1bab1b28",
   "metadata": {},
   "outputs": [],
   "source": []
  }
 ],
 "metadata": {
  "kernelspec": {
   "display_name": "Python 3 (ipykernel)",
   "language": "python",
   "name": "python3"
  },
  "language_info": {
   "codemirror_mode": {
    "name": "ipython",
    "version": 3
   },
   "file_extension": ".py",
   "mimetype": "text/x-python",
   "name": "python",
   "nbconvert_exporter": "python",
   "pygments_lexer": "ipython3",
   "version": "3.9.12"
  }
 },
 "nbformat": 4,
 "nbformat_minor": 5
}
