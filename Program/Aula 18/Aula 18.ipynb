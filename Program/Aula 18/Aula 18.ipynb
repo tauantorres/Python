{
 "cells": [
  {
   "cell_type": "markdown",
   "id": "559839e7",
   "metadata": {},
   "source": [
    "# Aula 18"
   ]
  },
  {
   "cell_type": "markdown",
   "id": "4f314b0e",
   "metadata": {},
   "source": [
    "# Sets:\n",
    "- Sets parecem bastante com listas, mas possuem algumas particularidades:\n",
    "1. Não possuem uma ordem específica;\n",
    "2. Não aceitam valores repetidos;\n",
    "3. É imutável, visto que não possui uma ordem específica;\n",
    "4. Usam {} como formato, mas não possuem CHAVE como os dicionários."
   ]
  },
  {
   "cell_type": "markdown",
   "id": "9d7344ae",
   "metadata": {},
   "source": [
    "## 1) Básico sobre Sets:"
   ]
  },
  {
   "cell_type": "code",
   "execution_count": 11,
   "id": "3116d384",
   "metadata": {},
   "outputs": [
    {
     "name": "stdout",
     "output_type": "stream",
     "text": [
      "{'atum', 'macarrao', 'feijao', 'arroz', 'azeite'}\n"
     ]
    }
   ],
   "source": [
    "# EXEMPLO 1\n",
    "\n",
    "set_produtos = {'arroz', 'feijao', 'macarrao', 'atum', 'azeite'}\n",
    "print(set_produtos)"
   ]
  },
  {
   "cell_type": "code",
   "execution_count": 9,
   "id": "a99e91ab",
   "metadata": {},
   "outputs": [
    {
     "name": "stdout",
     "output_type": "stream",
     "text": [
      "{'atum', 'macarrao', 'feijao', 'arroz', 'azeite'}\n"
     ]
    }
   ],
   "source": [
    "# EXEMPLO 2\n",
    "\n",
    "set_produtos = {'arroz', 'feijao', 'macarrao', 'arroz', 'atum', 'azeite'}\n",
    "print(set_produtos)"
   ]
  },
  {
   "cell_type": "code",
   "execution_count": 20,
   "id": "03257672",
   "metadata": {},
   "outputs": [
    {
     "name": "stdout",
     "output_type": "stream",
     "text": [
      "São 7 CPFs na lista.\n",
      "\n",
      "CPFs: ['429.509.140-55', '662.523.760-43', '964.940.610-79', '034.681.420-05', '670.240.390-94']\n",
      "\n",
      "No entanto, temos apenas 5 clientes diferentes na loja.\n"
     ]
    }
   ],
   "source": [
    "# EXEMPLO 3\n",
    "\n",
    "cpf_clientes = ['662.523.760-43', '662.523.760-43', \n",
    "                '429.509.140-55', '429.509.140-55', \n",
    "                '670.240.390-94', '964.940.610-79', \n",
    "                '034.681.420-05']\n",
    "\n",
    "print(f\"São {len(cpf_clientes)} CPFs na lista.\\n\")\n",
    "set_cpf_clientes = set(cpf_clientes)\n",
    "cpf_clientes_unicos = list(set_cpf_clientes)\n",
    "\n",
    "print(f\"CPFs: {cpf_clientes_unicos}\")\n",
    "print(f\"\\nNo entanto, temos apenas {len(set_cpf_clientes)} clientes diferentes na loja.\")"
   ]
  },
  {
   "cell_type": "markdown",
   "id": "4261ea6d",
   "metadata": {},
   "source": [
    "## 2) Imprimindo os valores do set:"
   ]
  },
  {
   "cell_type": "code",
   "execution_count": 28,
   "id": "35ee06b2",
   "metadata": {},
   "outputs": [
    {
     "name": "stdout",
     "output_type": "stream",
     "text": [
      "1 2 3 4 5 42 18 23 "
     ]
    }
   ],
   "source": [
    "# EXEMPLO 4\n",
    "\n",
    "conjunto = {2, 1, 4, 3, 5, 18, 42, 23}\n",
    "\n",
    "for elemento in conjunto:\n",
    "    print(elemento, end=' ')"
   ]
  },
  {
   "cell_type": "code",
   "execution_count": 29,
   "id": "a2439c2d",
   "metadata": {},
   "outputs": [
    {
     "name": "stdout",
     "output_type": "stream",
     "text": [
      "True\n",
      "False\n"
     ]
    }
   ],
   "source": [
    "# EXEMPLO 5\n",
    "\n",
    "conjunto = {2, 4, 6, 7, 9, 11}\n",
    "print(7 in conjunto)\n",
    "print(1 in conjunto)"
   ]
  },
  {
   "cell_type": "markdown",
   "id": "1509cdc6",
   "metadata": {},
   "source": [
    "## 3) Adicionando valores:"
   ]
  },
  {
   "cell_type": "code",
   "execution_count": 35,
   "id": "ffb93411",
   "metadata": {},
   "outputs": [
    {
     "name": "stdout",
     "output_type": "stream",
     "text": [
      "{1, 2, 3}\n",
      "{1, 2, 3, 4}\n",
      "{1, 2, 3, 4, 'Podemos add strings também.'}\n"
     ]
    }
   ],
   "source": [
    "# EXEMPLO 6\n",
    "\n",
    "conjunto = {1, 2, 3}\n",
    "print(conjunto)\n",
    "\n",
    "conjunto.add(4)\n",
    "print(conjunto)\n",
    "\n",
    "conjunto.add('Podemos add strings também.')\n",
    "print(conjunto)"
   ]
  },
  {
   "cell_type": "code",
   "execution_count": 39,
   "id": "1e87cc74",
   "metadata": {},
   "outputs": [
    {
     "name": "stdout",
     "output_type": "stream",
     "text": [
      "Antes do update:\n",
      "{1, 2, 3}\n",
      "{'Item 1', 'Item 3', 'Item 2'}\n",
      "\n",
      "Depois do update:\n",
      "{1, 2, 3, 'Item 1', 'Item 3', 'Item 2'}\n",
      "{'Item 1', 'Item 3', 'Item 2'}\n"
     ]
    }
   ],
   "source": [
    "# EXEMPLO 7\n",
    "\n",
    "set_1 = {1, 2, 3}\n",
    "set_2 = {'Item 1', 'Item 2', 'Item 3'}\n",
    "print(\"Antes do update:\")\n",
    "print(set_1)\n",
    "print(set_2)\n",
    "\n",
    "print(\"\\nDepois do update:\")\n",
    "set_1.update(set_2)\n",
    "print(set_1)\n",
    "print(set_2)\n"
   ]
  },
  {
   "cell_type": "code",
   "execution_count": 44,
   "id": "b0cd3616",
   "metadata": {},
   "outputs": [
    {
     "name": "stdout",
     "output_type": "stream",
     "text": [
      "Antes do update:\n",
      "{1, 2, 3}\n",
      "[4, 5, 6]\n",
      "\n",
      "Depois do update:\n",
      "{1, 2, 3, 4, 5, 6}\n",
      "[4, 5, 6]\n"
     ]
    }
   ],
   "source": [
    "# EXEMPLO 8\n",
    "\n",
    "set_1 = {1, 2, 3}\n",
    "lista_1 = [4, 5, 6]\n",
    "print(\"Antes do update:\")\n",
    "print(set_1)\n",
    "print(lista_1)\n",
    "\n",
    "print(\"\\nDepois do update:\")\n",
    "set_1.update(lista_1)\n",
    "print(set_1)\n",
    "print(lista_1)"
   ]
  },
  {
   "cell_type": "code",
   "execution_count": 43,
   "id": "7fcb6f36",
   "metadata": {},
   "outputs": [
    {
     "name": "stdout",
     "output_type": "stream",
     "text": [
      "Antes do update:\n",
      "{1, 2, 3}\n",
      "[2, 3, 4]\n",
      "\n",
      "Depois do update:\n",
      "{1, 2, 3, 4}\n",
      "[2, 3, 4]\n"
     ]
    }
   ],
   "source": [
    "# EXEMPLO 9\n",
    "\n",
    "set_1 = {1, 2, 3}\n",
    "lista_1 = [2, 3, 4]\n",
    "print(\"Antes do update:\")\n",
    "print(set_1)\n",
    "print(lista_1)\n",
    "\n",
    "print(\"\\nDepois do update:\")\n",
    "set_1.update(lista_1)\n",
    "print(set_1)\n",
    "print(lista_1)"
   ]
  },
  {
   "cell_type": "markdown",
   "id": "0b3acdd1",
   "metadata": {},
   "source": [
    "## 4) Removendo valores:"
   ]
  },
  {
   "cell_type": "code",
   "execution_count": 46,
   "id": "e102f7b1",
   "metadata": {},
   "outputs": [
    {
     "name": "stdout",
     "output_type": "stream",
     "text": [
      "{1, 2, 3, 'Item 1', 'Item 3', 'Item 2'}\n",
      "{2, 3, 'Item 1', 'Item 3', 'Item 2'}\n"
     ]
    }
   ],
   "source": [
    "# EXEMPLO 10\n",
    "\n",
    "set_1 = {1, 2, 3, 'Item 1', 'Item 2', 'Item 3'}\n",
    "print(set_1)\n",
    "set_1.pop()\n",
    "print(set_1)"
   ]
  },
  {
   "cell_type": "code",
   "execution_count": 49,
   "id": "948cb745",
   "metadata": {},
   "outputs": [
    {
     "name": "stdout",
     "output_type": "stream",
     "text": [
      "{1, 2, 3, 'Item 1', 'Item 3', 'Item 2'}\n",
      "{1, 3, 'Item 1', 'Item 3', 'Item 2'}\n",
      "{1, 3, 'Item 3', 'Item 2'}\n",
      "{1, 3, 'Item 3'}\n"
     ]
    }
   ],
   "source": [
    "# EXEMPLO 11\n",
    "\n",
    "set_1 = {1, 2, 3, 'Item 1', 'Item 2', 'Item 3'}\n",
    "print(set_1)\n",
    "\n",
    "set_1.remove(2)\n",
    "print(set_1)\n",
    "\n",
    "set_1.remove('Item 1')\n",
    "print(set_1)\n",
    "\n",
    "set_1.discard('Item 2')\n",
    "print(set_1)"
   ]
  },
  {
   "cell_type": "markdown",
   "id": "8d8bfe73",
   "metadata": {},
   "source": [
    "1. A diferença enter usar o **.remove()** e **.discard()** é que se tentarmos remover algo que não existe com o **.remove()**, nós vamos obter um erro; \n",
    "2. Porém, com o **.discard()** nada acontece;\n",
    "3. As funções **.clear()** e **del** funcionam aqui exatamente como em todas as outras estruturas."
   ]
  },
  {
   "cell_type": "markdown",
   "id": "31969827",
   "metadata": {},
   "source": [
    "## 5) Operadores matemáticos para Sets (conjuntos):"
   ]
  },
  {
   "cell_type": "code",
   "execution_count": 50,
   "id": "4a5d6597",
   "metadata": {},
   "outputs": [
    {
     "name": "stdout",
     "output_type": "stream",
     "text": [
      "{1, 2, 3, 4, 5, 6, 7}\n"
     ]
    }
   ],
   "source": [
    "# EXEMPLO 12\n",
    "\n",
    "conjunto_1 = {1, 2, 3, 4}\n",
    "conjunto_2 = {4, 5, 6, 7}\n",
    "\n",
    "conjunto_3 = conjunto_1.union(conjunto_2)\n",
    "print(conjunto_3)"
   ]
  },
  {
   "cell_type": "code",
   "execution_count": 51,
   "id": "610ac7a3",
   "metadata": {},
   "outputs": [
    {
     "name": "stdout",
     "output_type": "stream",
     "text": [
      "{4}\n"
     ]
    }
   ],
   "source": [
    "# EXEMPLO 13\n",
    "\n",
    "conjunto_1 = {1, 2, 3, 4}\n",
    "conjunto_2 = {4, 5, 6, 7}\n",
    "\n",
    "conjunto_3 = conjunto_1.intersection(conjunto_2)\n",
    "print(conjunto_3)"
   ]
  },
  {
   "cell_type": "code",
   "execution_count": 52,
   "id": "9b9d23e9",
   "metadata": {},
   "outputs": [
    {
     "name": "stdout",
     "output_type": "stream",
     "text": [
      "{4}\n"
     ]
    }
   ],
   "source": [
    "# EXEMPLO 14\n",
    "\n",
    "conjunto_1 = {1, 2, 3, 4}\n",
    "conjunto_2 = {4, 5, 6, 7}\n",
    "\n",
    "conjunto_1.intersection_update(conjunto_2)\n",
    "print(conjunto_1)"
   ]
  },
  {
   "cell_type": "code",
   "execution_count": 54,
   "id": "0233f429",
   "metadata": {},
   "outputs": [
    {
     "name": "stdout",
     "output_type": "stream",
     "text": [
      "{1, 2, 5, 6}\n"
     ]
    }
   ],
   "source": [
    "# EXEMPLO 15\n",
    "\n",
    "conjunto_1 = {1, 2, 3, 4}\n",
    "conjunto_2 = {3, 4, 5, 6}\n",
    "\n",
    "conjunto_3 = conjunto_1.symmetric_difference(conjunto_2)\n",
    "print(conjunto_3)"
   ]
  },
  {
   "cell_type": "code",
   "execution_count": 55,
   "id": "6e72faac",
   "metadata": {},
   "outputs": [
    {
     "name": "stdout",
     "output_type": "stream",
     "text": [
      "{1, 2, 5, 6}\n"
     ]
    }
   ],
   "source": [
    "# EXEMPLO 16\n",
    "\n",
    "conjunto_1 = {1, 2, 3, 4}\n",
    "conjunto_2 = {3, 4, 5, 6}\n",
    "\n",
    "conjunto_1.symmetric_difference_update(conjunto_2)\n",
    "print(conjunto_1)"
   ]
  },
  {
   "cell_type": "markdown",
   "id": "6c762a39",
   "metadata": {},
   "source": [
    "# Prática:\n",
    "Segue uma lista de exercício para vocês fazerem:\n",
    "1. https://www.w3resource.com/python-exercises/sets/\n",
    "\n",
    "Materias extras para um leitura amiga:\n",
    "1. https://www.w3schools.com/python/python_sets.asp"
   ]
  },
  {
   "cell_type": "code",
   "execution_count": null,
   "id": "04e2afd0",
   "metadata": {},
   "outputs": [],
   "source": []
  }
 ],
 "metadata": {
  "kernelspec": {
   "display_name": "Python 3 (ipykernel)",
   "language": "python",
   "name": "python3"
  },
  "language_info": {
   "codemirror_mode": {
    "name": "ipython",
    "version": 3
   },
   "file_extension": ".py",
   "mimetype": "text/x-python",
   "name": "python",
   "nbconvert_exporter": "python",
   "pygments_lexer": "ipython3",
   "version": "3.9.12"
  }
 },
 "nbformat": 4,
 "nbformat_minor": 5
}
