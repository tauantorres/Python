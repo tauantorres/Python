{
 "cells": [
  {
   "cell_type": "markdown",
   "id": "df735ef3",
   "metadata": {},
   "source": [
    "**[Exercício 4]** Escreva um programa que tenha um função chamada leiaInt(), que vai funcionar de forma semelhante à função input() do Python, só que fazendo a validação para aceitar apenas um valor númerico."
   ]
  },
  {
   "cell_type": "code",
   "execution_count": 1,
   "id": "b6f2721e",
   "metadata": {},
   "outputs": [],
   "source": [
    "def erro():\n",
    "    print(f\"\\033[31mERRO! Digite um número válido.\\033[m\")"
   ]
  },
  {
   "cell_type": "code",
   "execution_count": 2,
   "id": "0996d4a1",
   "metadata": {},
   "outputs": [],
   "source": [
    "def leiaInt():\n",
    "    numero = input(\"Digite um número: \")\n",
    "    while not numero.isnumeric():\n",
    "        erro()\n",
    "        numero = input(\"Digite um número: \")\n",
    "    return numero"
   ]
  },
  {
   "cell_type": "code",
   "execution_count": 3,
   "id": "432428b5",
   "metadata": {},
   "outputs": [
    {
     "name": "stdout",
     "output_type": "stream",
     "text": [
      "Digite um número: \n",
      "\u001b[31mERRO! Digite um número válido.\u001b[m\n",
      "Digite um número: jhgfd\n",
      "\u001b[31mERRO! Digite um número válido.\u001b[m\n",
      "Digite um número:         \n",
      "\u001b[31mERRO! Digite um número válido.\u001b[m\n",
      "Digite um número: 8\n",
      "Você acabou de digitar o número 8\n"
     ]
    }
   ],
   "source": [
    "# EXERCÍCIO 4\n",
    "numero = leiaInt()\n",
    "print(f\"Você acabou de digitar o número {numero}\")"
   ]
  },
  {
   "cell_type": "code",
   "execution_count": null,
   "id": "98464138",
   "metadata": {},
   "outputs": [],
   "source": []
  }
 ],
 "metadata": {
  "kernelspec": {
   "display_name": "Python 3 (ipykernel)",
   "language": "python",
   "name": "python3"
  },
  "language_info": {
   "codemirror_mode": {
    "name": "ipython",
    "version": 3
   },
   "file_extension": ".py",
   "mimetype": "text/x-python",
   "name": "python",
   "nbconvert_exporter": "python",
   "pygments_lexer": "ipython3",
   "version": "3.9.12"
  }
 },
 "nbformat": 4,
 "nbformat_minor": 5
}
