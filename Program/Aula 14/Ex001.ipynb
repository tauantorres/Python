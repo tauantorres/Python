{
 "cells": [
  {
   "cell_type": "markdown",
   "id": "a32ef050",
   "metadata": {},
   "source": [
    "**[Exercício 1]** Escreva um programa que tenha um função chamada voto() que vai receber como parâmetro o ano de nascimento de uma pessoa, retornando um valor literal indicando se uma pessoa tem voto NEGADO, OPCIONAL ou OBRIGATÓRIO nas eleições."
   ]
  },
  {
   "cell_type": "code",
   "execution_count": 1,
   "id": "270b8406",
   "metadata": {},
   "outputs": [],
   "source": [
    "import datetime\n",
    "\n",
    "def verificadorIdade():\n",
    "    ano = input(\"Em que ano você nasceu? \")\n",
    "    while not ano.isnumeric() or len(ano) != 4:\n",
    "        ano = input(\"Erro: Tente novamente.\\nEm que ano você nasceu? \")\n",
    "    ano = int(ano)\n",
    "    idade = datetime.date.today().year - ano\n",
    "    return idade"
   ]
  },
  {
   "cell_type": "code",
   "execution_count": 2,
   "id": "b6c732ff",
   "metadata": {},
   "outputs": [],
   "source": [
    "def verificadorVoto(idade):\n",
    "        \n",
    "        if idade < 16:\n",
    "            return 'NEGADO'\n",
    "        elif 18 <= idade < 70:\n",
    "            return 'VOTO OBRIGATÓRIO'\n",
    "        else:\n",
    "            return 'VOTO OPCIONAL'"
   ]
  },
  {
   "cell_type": "code",
   "execution_count": 3,
   "id": "2f64e87d",
   "metadata": {},
   "outputs": [
    {
     "name": "stdout",
     "output_type": "stream",
     "text": [
      "Em que ano você nasceu? asd\n",
      "Erro: Tente novamente.\n",
      "Em que ano você nasceu? 199\n",
      "Erro: Tente novamente.\n",
      "Em que ano você nasceu? 1995\n",
      "Com 27 anos: VOTO OBRIGATÓRIO\n"
     ]
    }
   ],
   "source": [
    "# EXERCÍCIO 1\n",
    "idade = verificadorIdade()\n",
    "print(f\"Com {idade} anos: {verificadorVoto(idade)}\")"
   ]
  },
  {
   "cell_type": "code",
   "execution_count": null,
   "id": "fabc1296",
   "metadata": {},
   "outputs": [],
   "source": []
  }
 ],
 "metadata": {
  "kernelspec": {
   "display_name": "Python 3 (ipykernel)",
   "language": "python",
   "name": "python3"
  },
  "language_info": {
   "codemirror_mode": {
    "name": "ipython",
    "version": 3
   },
   "file_extension": ".py",
   "mimetype": "text/x-python",
   "name": "python",
   "nbconvert_exporter": "python",
   "pygments_lexer": "ipython3",
   "version": "3.9.12"
  }
 },
 "nbformat": 4,
 "nbformat_minor": 5
}
