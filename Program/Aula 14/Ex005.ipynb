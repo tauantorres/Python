{
 "cells": [
  {
   "cell_type": "markdown",
   "id": "701f2019",
   "metadata": {},
   "source": [
    "**[Exercício 5]** Escreva um programa que tenha um função chamada notas() que pode receber várias notas de alunos e vai retornar um dicionário com as seguintes informações:\n",
    "1)\tQuantidade de notas;<br>\n",
    "2)\tA maior nota;<br>\n",
    "3)\tA menor nota;<br>\n",
    "4)\tA média da turma;<br>\n",
    "5)\tA situação (opcional).<br>\n",
    "Adicione também as docstrings da função."
   ]
  },
  {
   "cell_type": "code",
   "execution_count": 43,
   "id": "b04a5ba8",
   "metadata": {},
   "outputs": [],
   "source": [
    "def notas(* nota, sit=False):\n",
    "    resposta = dict()\n",
    "    \n",
    "    resposta['Total de Notas'] = len(nota)\n",
    "    resposta['Maior Nota'] = max(nota)\n",
    "    resposta['Menor Nota'] = min(nota)\n",
    "    resposta['Média'] = sum(nota)/len(nota)\n",
    "    \n",
    "    if sit:\n",
    "        if resposta['Média'] < 5:\n",
    "            resposta['Situação'] = 'RUIM'\n",
    "        elif resposta['Média'] > 8:\n",
    "            resposta['Situação'] = 'EXCELENTE'\n",
    "        else:\n",
    "            resposta['Situação'] = 'RAZOÁVEL'\n",
    "            \n",
    "    return resposta"
   ]
  },
  {
   "cell_type": "code",
   "execution_count": 44,
   "id": "a2c114e8",
   "metadata": {},
   "outputs": [
    {
     "name": "stdout",
     "output_type": "stream",
     "text": [
      "{'Total de Notas': 3, 'Maior Nota': 7.3, 'Menor Nota': 6, 'Média': 6.433333333333334}\n"
     ]
    }
   ],
   "source": [
    "# EXERCÍCIO 5\n",
    "resposta = notas(6, 6, 7.3)\n",
    "print(resposta)"
   ]
  },
  {
   "cell_type": "code",
   "execution_count": null,
   "id": "c18b508e",
   "metadata": {},
   "outputs": [],
   "source": []
  }
 ],
 "metadata": {
  "kernelspec": {
   "display_name": "Python 3 (ipykernel)",
   "language": "python",
   "name": "python3"
  },
  "language_info": {
   "codemirror_mode": {
    "name": "ipython",
    "version": 3
   },
   "file_extension": ".py",
   "mimetype": "text/x-python",
   "name": "python",
   "nbconvert_exporter": "python",
   "pygments_lexer": "ipython3",
   "version": "3.9.12"
  }
 },
 "nbformat": 4,
 "nbformat_minor": 5
}
