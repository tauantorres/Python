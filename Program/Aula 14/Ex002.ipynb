{
 "cells": [
  {
   "cell_type": "markdown",
   "id": "7c723c30",
   "metadata": {},
   "source": [
    "**[Exercício 2]** Escreva um programa que tenha um função chamada fatorial() que receba dois parâmetros: o primeiro que indique o número a calcular e o outro chamado show, que será um valor lógico (opcional) indicando se será mostrado ou não na tela o processo de cálculo fatorial. "
   ]
  },
  {
   "cell_type": "code",
   "execution_count": 23,
   "id": "134817f2",
   "metadata": {},
   "outputs": [],
   "source": [
    "# EXERCÍCIO 2\n",
    "def linha(tamanho):\n",
    "    print('=' * tamanho)"
   ]
  },
  {
   "cell_type": "code",
   "execution_count": 24,
   "id": "c5944c4f",
   "metadata": {},
   "outputs": [],
   "source": [
    "# EXERCÍCIO 2\n",
    "def fatorial(n , show = False):\n",
    "    \n",
    "    produto = 1\n",
    "    linha(40)\n",
    "    \n",
    "    if show == False:\n",
    "        \n",
    "        for i in range(n, 0, -1):\n",
    "            produto *= i\n",
    "            \n",
    "        print(f\"{n}! = {produto}\")\n",
    "        \n",
    "    else:\n",
    "        print(f\"{n}! = \", end=' ')\n",
    "        \n",
    "        for i in range(n, 0, -1):\n",
    "            produto *= i\n",
    "            print(f\"{i}\", end=' x ') if i != 1 else print(f\"{i}\", end=' ')\n",
    "            \n",
    "        print(f\"= {produto}\")   \n",
    "    \n",
    "    linha(40)"
   ]
  },
  {
   "cell_type": "code",
   "execution_count": 25,
   "id": "164ab4d4",
   "metadata": {},
   "outputs": [],
   "source": [
    "# EXERCÍCIO 2\n",
    "def verificadorInteiro(caminho):\n",
    "    \n",
    "    if caminho == 1:\n",
    "        \n",
    "        numero = input(\"Você gostaria de ver o fatorial de qual número? \")\n",
    "        while not numero.isnumeric():\n",
    "            numero = input(\"Erro: Resposta inválida.\\nVocê gostaria de ver o fatorial de qual número? \")\n",
    "        numero = int(numero)\n",
    "        \n",
    "        return numero\n",
    "    \n",
    "    if caminho == 2:\n",
    "        escolha = input(\" => Opção:\")\n",
    "        while not escolha.isnumeric():\n",
    "            print(\"Erro: Resposta Inválida! Isso não é um número. Tente novamente!\")\n",
    "            escolha = input(\" => Opção:\")\n",
    "        escolha = int(escolha)\n",
    "        \n",
    "        return escolha\n",
    "    \n",
    "    if caminho == 3:\n",
    "        print(\"Erro: Resposta Inválida! Digite 1 ou 2, por favor.\")\n",
    "        escolha = verificadorInteiro(2)\n",
    "        \n",
    "        return escolha"
   ]
  },
  {
   "cell_type": "code",
   "execution_count": 26,
   "id": "b02f38d9",
   "metadata": {},
   "outputs": [],
   "source": [
    "# EXERCÍCIO 2\n",
    "def opcao():\n",
    "    linha(40)\n",
    "    \n",
    "    print(\"Escolha uma opção:\")\n",
    "    print(\"[1] - Mostrar a multiplicação;\")\n",
    "    print(\"[2] - Mostrar apenas o resultado.\")\n",
    "    \n",
    "    linha(40)\n",
    "    \n",
    "    escolha = verificadorInteiro(2)\n",
    "    while escolha not in range(1,3):\n",
    "        escolha = verificadorInteiro(3)\n",
    "        \n",
    "    return escolha"
   ]
  },
  {
   "cell_type": "code",
   "execution_count": 27,
   "id": "b8130a85",
   "metadata": {},
   "outputs": [],
   "source": [
    "# EXERCÍCIO 2\n",
    "def VerdadeiroOuFalso(escolha):\n",
    "        return True if escolha == 1 else False"
   ]
  },
  {
   "cell_type": "code",
   "execution_count": 33,
   "id": "05073ddb",
   "metadata": {},
   "outputs": [
    {
     "name": "stdout",
     "output_type": "stream",
     "text": [
      "Você gostaria de ver o fatorial de qual número? 4\n",
      "========================================\n",
      "Escolha uma opção:\n",
      "[1] - Mostrar a multiplicação;\n",
      "[2] - Mostrar apenas o resultado.\n",
      "========================================\n",
      " => Opção:1\n",
      "========================================\n",
      "4! =  4 x 3 x 2 x 1 = 24\n",
      "========================================\n"
     ]
    }
   ],
   "source": [
    "# EXERCÍCIO 2\n",
    "\n",
    "numero = verificadorInteiro(1)\n",
    "escolha = opcao()\n",
    "nova_opcao = VerdadeiroOuFalso(escolha)\n",
    "fatorial(numero, nova_opcao)"
   ]
  },
  {
   "cell_type": "code",
   "execution_count": null,
   "id": "c81529c1",
   "metadata": {},
   "outputs": [],
   "source": []
  }
 ],
 "metadata": {
  "kernelspec": {
   "display_name": "Python 3 (ipykernel)",
   "language": "python",
   "name": "python3"
  },
  "language_info": {
   "codemirror_mode": {
    "name": "ipython",
    "version": 3
   },
   "file_extension": ".py",
   "mimetype": "text/x-python",
   "name": "python",
   "nbconvert_exporter": "python",
   "pygments_lexer": "ipython3",
   "version": "3.9.12"
  }
 },
 "nbformat": 4,
 "nbformat_minor": 5
}
