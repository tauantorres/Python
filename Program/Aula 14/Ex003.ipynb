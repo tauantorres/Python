{
 "cells": [
  {
   "cell_type": "markdown",
   "id": "ed3ade10",
   "metadata": {},
   "source": [
    "**[Exercício 3]** Escreva um programa que tenha um função chamada ficha(), que receba dois parâmetros opcionais: o nome de um jogador e quantos gols ele marcou. O programa deverá ser capaz de mostrar a ficha do jogador, mesmo que algum dado não tenha sido informado corretamente."
   ]
  },
  {
   "cell_type": "code",
   "execution_count": null,
   "id": "a90cca7b",
   "metadata": {},
   "outputs": [],
   "source": [
    "def nome():\n",
    "    nome = input(\"Nome do jogador: \")\n",
    "    nome = '<Jogador Desconhecido>' if len(nome) == 0 else str(nome)\n",
    "    return nome"
   ]
  },
  {
   "cell_type": "code",
   "execution_count": null,
   "id": "c2e2fd58",
   "metadata": {},
   "outputs": [],
   "source": [
    "def gols():\n",
    "    gol = input(\"Número de gol(s): \")\n",
    "    gol ='0' if len(gol) == 0 else int(gol)       \n",
    "    return gol"
   ]
  },
  {
   "cell_type": "code",
   "execution_count": null,
   "id": "e206f4bc",
   "metadata": {},
   "outputs": [],
   "source": [
    "# EXERCÍCIO 3\n",
    "nome = nome()\n",
    "gols = gols()\n",
    "print(f\"O jogador {nome} fez {gols} gol(s) no campeonato.\")"
   ]
  },
  {
   "cell_type": "code",
   "execution_count": null,
   "id": "86d4b112",
   "metadata": {},
   "outputs": [],
   "source": []
  }
 ],
 "metadata": {
  "kernelspec": {
   "display_name": "Python 3 (ipykernel)",
   "language": "python",
   "name": "python3"
  },
  "language_info": {
   "codemirror_mode": {
    "name": "ipython",
    "version": 3
   },
   "file_extension": ".py",
   "mimetype": "text/x-python",
   "name": "python",
   "nbconvert_exporter": "python",
   "pygments_lexer": "ipython3",
   "version": "3.9.12"
  }
 },
 "nbformat": 4,
 "nbformat_minor": 5
}
