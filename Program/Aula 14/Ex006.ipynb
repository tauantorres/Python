{
 "cells": [
  {
   "cell_type": "markdown",
   "id": "deb0ee22",
   "metadata": {},
   "source": [
    "**[Exercício 6]** Faça um minisistema que utilize o interactive Help do Python. O usuário vai digitar o comando e o manual vai aparecer. Quando o usuário digitar a palavra ‘FIM’, o programa se encerrará. OBS: use CORES."
   ]
  },
  {
   "cell_type": "code",
   "execution_count": 5,
   "id": "9f4a2ce2",
   "metadata": {},
   "outputs": [],
   "source": [
    "color =('\\033[m',       # 0 -Sem cor\n",
    "      '\\033[30;41m',  # 1 - Vermelho\n",
    "      '\\033[30;42m',  # 2 - Verde\n",
    "      '\\033[30;43m',  # 3 - Amarelo\n",
    "      '\\033[30;44m',  # 4 - Azul\n",
    "      '\\033[30;45m',  # 5 - Roxo\n",
    "      '\\033[7;30m')   # 6 - Branco"
   ]
  },
  {
   "cell_type": "code",
   "execution_count": 6,
   "id": "574a6dc8",
   "metadata": {},
   "outputs": [],
   "source": [
    "def ajuda(comando):\n",
    "    titulo(f\"Acessando o manual do comando \\'{comando}\\'\", 4)\n",
    "    print(color[6], end='')\n",
    "    help(comando)\n",
    "    print(color[0], end='')"
   ]
  },
  {
   "cell_type": "code",
   "execution_count": 7,
   "id": "61d0a114",
   "metadata": {},
   "outputs": [],
   "source": [
    "def titulo(msg, cor = 0):\n",
    "    tamanho = len(msg) + 4\n",
    "    print(color[cor], end='')\n",
    "    print('=' * tamanho)\n",
    "    print(f\"{msg:^{tamanho}}\")\n",
    "    print('=' * tamanho)\n",
    "    print(color[0], end='')"
   ]
  },
  {
   "cell_type": "code",
   "execution_count": 8,
   "id": "824b22b5",
   "metadata": {},
   "outputs": [
    {
     "name": "stdout",
     "output_type": "stream",
     "text": [
      "\u001b[30;42m===========================\n",
      "  SISTEMA DE AJUDA PyHELP  \n",
      "===========================\n",
      "\u001b[mFunção ou Biblioteca >>>print\n",
      "\u001b[30;44m=======================================\n",
      "  Acessando o manual do comando 'PRI'  \n",
      "=======================================\n",
      "\u001b[m\u001b[7;30mNo Python documentation found for 'PRI'.\n",
      "Use help() to get the interactive help utility.\n",
      "Use help(str) for help on the str class.\n",
      "\n",
      "\u001b[m\u001b[30;42m===========================\n",
      "  SISTEMA DE AJUDA PyHELP  \n",
      "===========================\n",
      "\u001b[mFunção ou Biblioteca >>>len\n",
      "\u001b[30;44m=======================================\n",
      "  Acessando o manual do comando 'LEN'  \n",
      "=======================================\n",
      "\u001b[m\u001b[7;30mNo Python documentation found for 'LEN'.\n",
      "Use help() to get the interactive help utility.\n",
      "Use help(str) for help on the str class.\n",
      "\n",
      "\u001b[m\u001b[30;42m===========================\n",
      "  SISTEMA DE AJUDA PyHELP  \n",
      "===========================\n",
      "\u001b[mFunção ou Biblioteca >>>  fim\n",
      "\u001b[30;41m=============\n",
      "  Até Logo!  \n",
      "=============\n",
      "\u001b[m"
     ]
    }
   ],
   "source": [
    "while True:\n",
    "    titulo('SISTEMA DE AJUDA PyHELP', 2)\n",
    "    comando = str(input(\"Função ou Biblioteca >>>\")).upper().strip()[:3]\n",
    "    if comando == 'FIM':\n",
    "        break\n",
    "    else: \n",
    "        ajuda(comando)\n",
    "titulo('Até Logo!', 1)"
   ]
  },
  {
   "cell_type": "code",
   "execution_count": null,
   "id": "b8f06f13",
   "metadata": {},
   "outputs": [],
   "source": []
  }
 ],
 "metadata": {
  "kernelspec": {
   "display_name": "Python 3 (ipykernel)",
   "language": "python",
   "name": "python3"
  },
  "language_info": {
   "codemirror_mode": {
    "name": "ipython",
    "version": 3
   },
   "file_extension": ".py",
   "mimetype": "text/x-python",
   "name": "python",
   "nbconvert_exporter": "python",
   "pygments_lexer": "ipython3",
   "version": "3.9.12"
  }
 },
 "nbformat": 4,
 "nbformat_minor": 5
}
