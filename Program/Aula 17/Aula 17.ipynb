{
 "cells": [
  {
   "cell_type": "markdown",
   "id": "cca41271",
   "metadata": {},
   "source": [
    "# Aula 17\n",
    "\n",
    "## Aprofundamento (Parte I):"
   ]
  },
  {
   "cell_type": "markdown",
   "id": "07355ab3",
   "metadata": {},
   "source": [
    "## Parte 1:\n",
    "### Números Complexos\n",
    "- Aprendemos sobre \"int\" e \"float\". Porém, ainda existem os números comlexos e a análise vetorial.\n",
    "- Vocês um dia tiverem interesse em aprender mais sobre isso, fortemente recomendo o seguinte site:\n",
    "1. https://www.scaler.com/topics/complex-in-python/'\n",
    "2. https://docs.python.org/pt-br/3/library/functions.html?highlight=complex#complex\n",
    "3. https://docs.python.org/pt-br/3/library/numbers.html?highlight=complex#numbers.Complex\n",
    "\n",
    "- **Fortemente** recomendo a leitura do último artigo da lista. Lá vocês poderam ler das funções adicionais que existem para número no campo complexo, tais quais como o módulo de um número complexo e o conjugado."
   ]
  },
  {
   "cell_type": "code",
   "execution_count": null,
   "id": "761a05f1",
   "metadata": {},
   "outputs": [],
   "source": [
    "# EXEMPLO 1\n",
    "\n",
    "z1 = 4 - 2j\n",
    "z2 = 9 + 6j\n",
    "print(f\"{z1} + {z2} = {z1 + z2}\")\n",
    "print(f\"{z1} - {z2} = {z1 - z2}\")\n",
    "print(f\"{z1} * {z2} = {z1 * z2}\")"
   ]
  },
  {
   "cell_type": "markdown",
   "id": "52e1cf76",
   "metadata": {},
   "source": [
    "## Parte 2:\n",
    "### Declaração de Variáveis\n",
    "- Outro ***Bizu*** interessante é podermos declarar mais do que uma variável em uma mesma linha (**Exemplo 2**). \n",
    "- Não é necessário nem que as variáveis na mesma linha pertençam ao mesmo tipo primitivo. Basta apenas que elas sejam separadas por vírgulas e remetam, respectivamente, ao nome desejado pelo usuário (**Exemplo 3**).\n",
    "- Também podemos declarar variáveis em uma mesma linha que recebem o mesmo valor (**Exemplo 4**).\n",
    "- Já vimos muitas formas de declarar uma variável ao longo do curso, mas de longe a próxima será muito útil no futuro para vocês:"
   ]
  },
  {
   "cell_type": "code",
   "execution_count": null,
   "id": "60c8993c",
   "metadata": {},
   "outputs": [],
   "source": [
    "# EXEMPLO 2\n",
    "\n",
    "i, j, k = 1, 2, 3\n",
    "print(i, j, k)"
   ]
  },
  {
   "cell_type": "code",
   "execution_count": null,
   "id": "2e61c908",
   "metadata": {},
   "outputs": [],
   "source": [
    "# EXEMPLO 3\n",
    "\n",
    "nome, idade, peso = 'Tauan', 27, 80.3\n",
    "print(nome, idade, peso)"
   ]
  },
  {
   "cell_type": "code",
   "execution_count": null,
   "id": "ba86aa21",
   "metadata": {},
   "outputs": [],
   "source": [
    "# EXEMPLO 4\n",
    "\n",
    "a = b = c = 'Python'\n",
    "print(a)\n",
    "print(b)\n",
    "print(c)"
   ]
  },
  {
   "cell_type": "markdown",
   "id": "84c192c6",
   "metadata": {},
   "source": [
    "## Parte 3:\n",
    "### Type casting\n",
    "- Já aprendemos em outras aulas sobre o módulo **type()** e como ele é importante para descobrir a classe a qual pertecem a variável em questão. Em outras palavras, o tipoi primitivo dela. Também já aprendemos como tranformar uum valor em outros, porém, não demos nomes a isso. Isso se chama **\"type casting\"**. Um método amplamente utilizado por programadores.\n",
    "- Porém, **CUIDADO**! Veja os exemplos a seguir e observe o que acontece quando usamos o type casting. Note que, em alguns casos, perdemos a precisão dos valores que temos. Por isso, use com cuidado."
   ]
  },
  {
   "cell_type": "code",
   "execution_count": null,
   "id": "1c37cf10",
   "metadata": {},
   "outputs": [],
   "source": [
    "# EXEMPLO 5\n",
    "\n",
    "x, y, z = int(2), int(2.8), int('2')\n",
    "print(x, y, z)"
   ]
  },
  {
   "cell_type": "code",
   "execution_count": null,
   "id": "dd3feb43",
   "metadata": {},
   "outputs": [],
   "source": [
    "# EXEMPLO 6\n",
    "\n",
    "a, b, c, d = float(2), float(2.3), float('2'), float('2.3') \n",
    "print(a, b, c, d)"
   ]
  },
  {
   "cell_type": "markdown",
   "id": "058b8086",
   "metadata": {},
   "source": [
    "## Parte 4:\n",
    "### Variáveis e os tipos de Dados\n",
    "- Tipos de Dados:\n",
    "1. Tipos de Texto: **str**;\n",
    "2. Tipos numéricos: **int, float e o complex**;\n",
    "3. Tipos de Sequências: **list, tuple, range**;\n",
    "4. Tipos de Mapeamento: **dict**;\n",
    "5. Tipos Set: **set e frozenset**;\n",
    "6. Tipo Booleano: **bool**;\n",
    "7. Tipo Binário: **bytes, bytearray, memoryview**.\n",
    "\n",
    "- Esse são ***alguns*** todos os tipos de dados que existem em Python. Claramente, como vocês devem imaginar, existem muitos outros. Porém, essa pequena lista talvez ajude vocês a se localizarem um pouco melhor aonde está situado e o que são cada um dos tipos que estudamos até então."
   ]
  },
  {
   "cell_type": "markdown",
   "id": "504abbdd",
   "metadata": {},
   "source": [
    "## Parte 5:\n",
    "### Operador ternário\n",
    "- Como já estudamos anteriormente, operadores ternários servem apenas para tornar o código um pouco mais curto, muitas vezes. Sendo assim, vale a pena dar uma olhada nisso:"
   ]
  },
  {
   "cell_type": "code",
   "execution_count": null,
   "id": "ec714218",
   "metadata": {},
   "outputs": [],
   "source": [
    "# EXEMPLO 7\n",
    "\n",
    "## PARTE 1\n",
    "x, y = 1, 100\n",
    "\n",
    "print(\"Quem é maior?\", end=' ')\n",
    "print('X') if x > y else print('Y')\n",
    "\n",
    "## PARTE 2\n",
    "x, y = 100, 1\n",
    "\n",
    "print(\"Mas e agora?\", end=' ')\n",
    "print('X') if x > y else print('Y')"
   ]
  },
  {
   "cell_type": "markdown",
   "id": "6f9ac1ce",
   "metadata": {},
   "source": [
    "## Parte 6:\n",
    "### O uso do \"break\" e \"continue\"\n",
    "- Vocês já usaram inúmeras vezes \"break\" nos códigos de vocês, porém , talvez ainda não tenham usado o \"continue\", ou até mesmo tenham dúvidas de como ele funciona e para o quê, afinal de contas, ele serve.\n",
    "- Bom, eis aqui alguns exemplos ilustrativos para eles:"
   ]
  },
  {
   "cell_type": "code",
   "execution_count": null,
   "id": "2f353bea",
   "metadata": {},
   "outputs": [],
   "source": [
    "# EXEMPLO 8\n",
    "\n",
    "pessoas_presentes = ['Tauan', 'Leonardo', 'Diana', 'Ricardo',  'Marcos', 'Roberto']\n",
    "chamada = 'Diana'\n",
    "\n",
    "for pessoa in pessoas_presentes:\n",
    "    if pessoa == chamada:\n",
    "        print(f\"\\033[34m{chamada} está presente.\\033[m\")\n",
    "        break\n",
    "    else:\n",
    "        print(f\"\\033[35mSó um print para mostrar que o 'for' passou por essa pessoa: {pessoa}\\033[m\")\n"
   ]
  },
  {
   "cell_type": "code",
   "execution_count": null,
   "id": "49113589",
   "metadata": {},
   "outputs": [],
   "source": [
    "# EXEMPLO 9\n",
    "\n",
    "pessoas_presentes = ['Tauan', 'Leonardo', 'Diana', 'Ricardo',  'Marcos', 'Roberto']\n",
    "chamada = 'Diana'\n",
    "\n",
    "for pessoa in pessoas_presentes:\n",
    "    if pessoa == chamada:\n",
    "        print(f\"\\033[34m{chamada} está presente.\\033[m\")\n",
    "        break\n",
    "    else:\n",
    "        print(f\"\\033[35mSó um print para mostrar que o 'for' passou por essa pessoa: {pessoa}\\033[m\")\n",
    "        continue\n",
    "        print(\"Só pra mostrar que isso não vai ser printado.\")\n",
    "        print(\"Isso aqui também não.\")\n",
    "        print(\"Acho que deu pra entender, né?\")"
   ]
  },
  {
   "cell_type": "markdown",
   "id": "8d081b59",
   "metadata": {},
   "source": [
    "## Parte 7:\n",
    "### Pequenos projetos\n",
    "- Mantenham seus Linkedins sempre atualizados, mas também o seus GitHub. Criem pequenos projetos de vocês e upem eles para que as pessoas possam notar a evolução de vocês à cada nova etapa que vocês chegam.\n",
    "- Pequenos desafios sempre são um bom primeiro passo. Como, por exemplo, a nossa avaliação que pedia que vocês criassem um jogo da Forca em Python. Porém, existem muitas outras ideias que farão vocês evoluírem na caminhada. Segue alguns sites com dícas para vocês pesquisarem e estudarem:\n",
    "1. https://www.freecodecamp.org/portuguese/news/25-projetos-em-python-para-iniciantes-ideias-faceis-para-comecar-a-programar-em-python/\n",
    "\n",
    "2. https://www.hashtagtreinamentos.com/projetos-em-python?gclid=CjwKCAiAs8acBhA1EiwAgRFdwwp2xIkdZ5cFhbSmN4S0MvOCAoo8V5a9SWW1RtVRPuPTS0qLtRmdYRoCqbYQAvD_BwE\n",
    "\n",
    "3. https://acervolima.com/projetos-python-do-iniciante-ao-avancado/\n",
    "\n",
    "4. https://www.youtube.com/watch?v=7U3-pJZkN-o&ab_channel=DevAprender\n",
    "\n",
    "- Então vocês tem aqui **BASTANTE** material extra para estudar. E de presente, ainda vou mostrar um pequeno programa de criptografia. Ou seja, um exemplo simples de um projeto que permite o usuário à criptografar uma senha."
   ]
  },
  {
   "cell_type": "markdown",
   "id": "c864adbe",
   "metadata": {},
   "source": [
    "**[Exercício 1]** Crie seu próprio programa que criptografe uma senha do usuário. Em seguida, para os mais ousados, crie um programa que fará o processo inverso. Ou seja, dado um código criptografado, retorne o valor original. "
   ]
  },
  {
   "cell_type": "code",
   "execution_count": null,
   "id": "74597495",
   "metadata": {},
   "outputs": [],
   "source": [
    "# EXEMPLO 10\n",
    "## CRIPTOGRAFIA BÁSICA: [A = 4, I = 1, E = 3, S = 5, O = 0, R = #, M = $, T = %]\n",
    "\n",
    "\n",
    "def inputChave(txt):\n",
    "    chave = input(txt)\n",
    "    senha = \"\"\n",
    "    \n",
    "    for letra in chave:\n",
    "        if letra in 'Aa': senha += '4'\n",
    "        elif letra in 'Ii': senha += '1'\n",
    "        elif letra in 'Ee': senha += '3'\n",
    "        elif letra in 'Ss': senha += '5'\n",
    "        elif letra in 'Oo': senha += '0'\n",
    "        elif letra in 'Rr': senha += '#'\n",
    "        elif letra in 'Mm': senha += '$'\n",
    "        elif letra in 'Tt': senha += '%'\n",
    "        elif letra in ' ': senha += ''\n",
    "        else: senha += letra\n",
    "        \n",
    "    return senha\n",
    "\n",
    "        \n",
    "# MAIN FUNCTION:\n",
    "print(inputChave(\"Digite a base da senha: \"))    "
   ]
  },
  {
   "cell_type": "markdown",
   "id": "c7a76a02",
   "metadata": {},
   "source": [
    "## Parte 8:\n",
    "### Trocando variáveis\n",
    "- Um detalhe que eu observei muito é que há ainda alunos que se atrapalham na hora de criar um programa que os ajude a trocar dois valores de lugar. Por isso, eu resolvi deixar aqui uma pequena contribuição à todos esse alunos. Espero que esse código, apesar de simple, ajude à esclarecer essa ideia na cabeça de todos."
   ]
  },
  {
   "cell_type": "code",
   "execution_count": null,
   "id": "e18602a0",
   "metadata": {},
   "outputs": [],
   "source": [
    "# EXEMPLO 11.1\n",
    "\n",
    "x = input(\"Digite um valor para X: \")\n",
    "y = input(\"Digite um valor para Y: \")\n",
    "\n",
    "# ANTES DA TROCA:\n",
    "print(f\"\\nAntes da troca X valia {x}.\")\n",
    "print(f\"Antes da troca Y valia {y}.\")\n",
    "\n",
    "# DURANTE A TROCA:\n",
    "auxiliar = x\n",
    "x = y\n",
    "y = auxiliar\n",
    "\n",
    "# DEPOIS DA TROCA:\n",
    "print(f\"\\nDepois da troca X vale {x}.\")\n",
    "print(f\"Depois da troca Y vale {y}.\")"
   ]
  },
  {
   "cell_type": "code",
   "execution_count": 8,
   "id": "2a9f65c5",
   "metadata": {},
   "outputs": [
    {
     "name": "stdout",
     "output_type": "stream",
     "text": [
      "Digite um valor para X: 3\n",
      "Digite um valor para Y: 7\n",
      "\n",
      "Antes da troca X valia 3.\n",
      "Antes da troca Y valia 7.\n",
      "\n",
      "Depois da troca X vale 7.\n",
      "Depois da troca Y vale 3.\n"
     ]
    }
   ],
   "source": [
    "# EXEMPLO 11.2\n",
    "\n",
    "x = input(\"Digite um valor para X: \")\n",
    "y = input(\"Digite um valor para Y: \")\n",
    "\n",
    "# ANTES DA TROCA:\n",
    "print(f\"\\nAntes da troca X valia {x}.\")\n",
    "print(f\"Antes da troca Y valia {y}.\")\n",
    "\n",
    "# DURANTE A TROCA:\n",
    "x, y = y, x\n",
    "\n",
    "# DEPOIS DA TROCA:\n",
    "print(f\"\\nDepois da troca X vale {x}.\")\n",
    "print(f\"Depois da troca Y vale {y}.\")"
   ]
  },
  {
   "cell_type": "markdown",
   "id": "56d2da38",
   "metadata": {},
   "source": [
    "## Parte 9:\n",
    "### Alguns detalhes sobre \"bool\"\n",
    "- Em geral, as variáveis, funções, objetos, classes e etc que estão vazias são consideradas como \"False\". As que não estão vazias, como \"True\". \n",
    "- No caso de números, como 'zero', por exemplo, o Pyhton também considerada como \"False\"."
   ]
  },
  {
   "cell_type": "code",
   "execution_count": null,
   "id": "149d06b7",
   "metadata": {},
   "outputs": [],
   "source": [
    "# EXEMPLO 12\n",
    "\n",
    "lista_numero_1 = [1, 2, 3]\n",
    "lista_numero_2 = []\n",
    "\n",
    "numero_1 = 1\n",
    "numero_2 = 0\n",
    "\n",
    "print(\"Testando para estruturas:\")\n",
    "print(bool(lista_numero_1))\n",
    "print(bool(lista_numero_2))\n",
    "\n",
    "print(\"\\nTestando para números:\")\n",
    "print(bool(numero_1))\n",
    "print(bool(numero_2))"
   ]
  },
  {
   "cell_type": "markdown",
   "id": "98ae5f4e",
   "metadata": {},
   "source": [
    "## Parte 10:\n",
    "### Conhecimentos básicos\n",
    "- A seguir eu vou deixar uma pequena sequência de códigos muito simples e que nós já vimos muitas e praticamos inúmeres vezes até aqui. Porém, eu preciso ter certeza que todos vocês já viram e entenderam esses códigos."
   ]
  },
  {
   "cell_type": "code",
   "execution_count": null,
   "id": "a8c72b33",
   "metadata": {},
   "outputs": [],
   "source": [
    "# EXEMPLO 13 - PAR OU IMPAR\n",
    "\n",
    "numero = int(input(\"Digite um valor: \"))\n",
    "if numero % 2 == 0:\n",
    "    print(f\" => {numero} é PAR!\")\n",
    "else:\n",
    "    print(f\" => {numero} é ÍMPAR!\")"
   ]
  },
  {
   "cell_type": "code",
   "execution_count": null,
   "id": "2db7270b",
   "metadata": {},
   "outputs": [],
   "source": [
    "# EXEMPLO 14.1 - FATORIAL\n",
    "\n",
    "numero = int(input(\"Digite um valor: \"))\n",
    "fatorial = 1\n",
    "\n",
    "if numero < 0:\n",
    "    print(\"Não existe fatorial de números negativos.\")\n",
    "elif numero == 0:\n",
    "    print(\"Por definição o fatorial de 0 (zero) é igual a 1.\")\n",
    "else:\n",
    "    for i in range(1, numero + 1):\n",
    "        fatorial *= i\n",
    "    print(f\"{numero}! = {fatorial}\")\n"
   ]
  },
  {
   "cell_type": "code",
   "execution_count": null,
   "id": "b14edc99",
   "metadata": {},
   "outputs": [],
   "source": [
    "# EXEMPLO 14.2 - FATORIAL\n",
    "\n",
    "def fatorial(numero):\n",
    "    \n",
    "    if numero == 1 or numero == 0:\n",
    "        return 1\n",
    "    else:\n",
    "        return numero * fatorial(numero - 1)\n",
    "        \n",
    "\n",
    "numero = int(input(\"Digite um número: \"))\n",
    "if numero < 0:\n",
    "    print(\"Não existe fatorial de número negativo.\")\n",
    "else:\n",
    "    print(f\"{numero}! = {fatorial(numero)}\")"
   ]
  },
  {
   "cell_type": "code",
   "execution_count": null,
   "id": "9508ce20",
   "metadata": {},
   "outputs": [],
   "source": [
    "# EXEMPLO 15 - NÚMERO PRIMO\n",
    "\n",
    "numero = int(input(\"Digite um valor: \"))\n",
    "contador = 0\n",
    "\n",
    "if numero > 1:\n",
    "    for i in range(1, numero + 1):\n",
    "        if numero % i == 0:\n",
    "            contador += 1    \n",
    "    if contador == 2:\n",
    "        print(f\"{numero} é primo!\")\n",
    "    else:\n",
    "        print(f\"{numero} não é primo.\")\n",
    "    \n",
    "else:\n",
    "    print(f\"{numero} não é primo.\")\n",
    "    "
   ]
  },
  {
   "cell_type": "markdown",
   "id": "0d514896",
   "metadata": {},
   "source": [
    "## Parte 10:\n",
    "### O uso do \"continue\" e \"pass\"\n",
    "\n",
    "- Basicamente, o \"continue\" é usado em **estruturas de repetição**. Já o \"pass\" é usado em **estruturas condicionais**. \n",
    "- O \"pass\" serve para alguns casos como quando queremos deixar um for \"vazio\".\n",
    "- Observe os exemplos a seguir:"
   ]
  },
  {
   "cell_type": "code",
   "execution_count": 2,
   "id": "2f1d07b3",
   "metadata": {},
   "outputs": [
    {
     "name": "stdout",
     "output_type": "stream",
     "text": [
      "1 2 3 4 6 7 8 9 10 "
     ]
    }
   ],
   "source": [
    "# EXEMPLO 16 - CONTINUE\n",
    "\n",
    "for i in range(1, 11):\n",
    "    if i == 5:\n",
    "        continue\n",
    "    print(i, end=' ')"
   ]
  },
  {
   "cell_type": "code",
   "execution_count": 3,
   "id": "4c86f7ce",
   "metadata": {},
   "outputs": [
    {
     "name": "stdout",
     "output_type": "stream",
     "text": [
      "1 2 3 4 5 6 7 8 9 10 "
     ]
    }
   ],
   "source": [
    "# EXEMPLO 17 - PASS\n",
    "\n",
    "for i in range(1, 11):\n",
    "    if i == 5:\n",
    "        pass\n",
    "    print(i, end=' ')\n"
   ]
  },
  {
   "cell_type": "markdown",
   "id": "6a9d0a05",
   "metadata": {},
   "source": [
    "## Parte 11:\n",
    "### Mantenha-se estudando\n",
    "\n",
    "Site para treinar e testar os seus conhecimentos:\n",
    "1. https://www.beecrowd.com.br/judge/en\n",
    "2. https://www.hackerrank.com/\n",
    "3. https://www.codechef.com/\n",
    "4. https://www.codewars.com/users/sign_in\n",
    "5. https://www.codingame.com/start"
   ]
  },
  {
   "cell_type": "markdown",
   "id": "54929190",
   "metadata": {},
   "source": [
    "## Parte 12:"
   ]
  },
  {
   "cell_type": "markdown",
   "id": "e5d80943",
   "metadata": {},
   "source": [
    "### Listas (Dicas parte 1):\n",
    "- Algumas ideias diferentes do que se pode fazer com listas:"
   ]
  },
  {
   "cell_type": "code",
   "execution_count": 17,
   "id": "df3b8875",
   "metadata": {},
   "outputs": [
    {
     "name": "stdout",
     "output_type": "stream",
     "text": [
      "[1, 2, 3, 4, 5, 6, 7, 8, 9, 10]\n"
     ]
    }
   ],
   "source": [
    "# EXEMPLO 18\n",
    "\n",
    "lista = list(range(1, 11))\n",
    "print(lista)"
   ]
  },
  {
   "cell_type": "code",
   "execution_count": 18,
   "id": "aa95fbc8",
   "metadata": {},
   "outputs": [
    {
     "name": "stdout",
     "output_type": "stream",
     "text": [
      "['C', 'u', 'r', 's', 'o', ' ', 'd', 'e', ' ', 'P', 'y', 't', 'h', 'o', 'n']\n"
     ]
    }
   ],
   "source": [
    "# EXEMPLO 19\n",
    "\n",
    "lista = list(\"Curso de Python\")\n",
    "print(lista)"
   ]
  },
  {
   "cell_type": "code",
   "execution_count": 21,
   "id": "b4e8be26",
   "metadata": {},
   "outputs": [
    {
     "name": "stdout",
     "output_type": "stream",
     "text": [
      "['A', 'B', 'C', 'D', 'E', 'F', 'G']\n",
      "['A', ' ', ' ', 'D', 'E', 'F', 'G']\n"
     ]
    }
   ],
   "source": [
    "# EXEMPLO 20\n",
    "\n",
    "letras = ['A', 'B', 'C', 'D', 'E', 'F', 'G']\n",
    "print(letras)\n",
    "letras[1:3] = [' ', ' ']\n",
    "print(letras)"
   ]
  },
  {
   "cell_type": "code",
   "execution_count": 26,
   "id": "8f918f40",
   "metadata": {},
   "outputs": [
    {
     "name": "stdout",
     "output_type": "stream",
     "text": [
      "['A', 'B', 'C', 'D', 'E', 'F', 'G'] - Tamanho = 7\n",
      "['A', ' ', ' ', ' ', 'C', 'D', 'E', 'F', 'G'] - Tamanho = 9\n"
     ]
    }
   ],
   "source": [
    "# EXEMPLO 21\n",
    "\n",
    "letras = ['A', 'B', 'C', 'D', 'E', 'F', 'G']\n",
    "print(letras, f\"- Tamanho = {len(letras)}\")\n",
    "letras[1:2] = [' ', ' ', ' ']\n",
    "print(letras, f\"- Tamanho = {len(letras)}\")"
   ]
  },
  {
   "cell_type": "code",
   "execution_count": 27,
   "id": "b1e1fc06",
   "metadata": {},
   "outputs": [
    {
     "name": "stdout",
     "output_type": "stream",
     "text": [
      "['A', 'B', 'C', 'D', 'E', 'F', 'G'] - Tamanho = 7\n",
      "['A', ' ', 'E', 'F', 'G'] - Tamanho = 5\n"
     ]
    }
   ],
   "source": [
    "# EXEMPLO 22\n",
    "\n",
    "letras = ['A', 'B', 'C', 'D', 'E', 'F', 'G']\n",
    "print(letras, f\"- Tamanho = {len(letras)}\")\n",
    "letras[1:4] = [' ']\n",
    "print(letras, f\"- Tamanho = {len(letras)}\")"
   ]
  },
  {
   "cell_type": "markdown",
   "id": "fa420548",
   "metadata": {},
   "source": [
    "### Listas (Dicas parte 2):\n",
    "- O argumento da cláusula **.split()** serve para escolher aonde quebrar uma string e colocar cada parte como elemento de uma lista. Vale observar que o elemento escolhido para ser o ponto de corte é eliminado da string."
   ]
  },
  {
   "cell_type": "code",
   "execution_count": 28,
   "id": "ef60422e",
   "metadata": {},
   "outputs": [
    {
     "name": "stdout",
     "output_type": "stream",
     "text": [
      "['tauan', 'senac.com']\n"
     ]
    }
   ],
   "source": [
    "# EXEMPLO 23\n",
    "\n",
    "email = 'tauan@senac.com'\n",
    "email = email.split('@')\n",
    "print(email)"
   ]
  },
  {
   "cell_type": "markdown",
   "id": "de7da14f",
   "metadata": {},
   "source": [
    "### Listas (Dicas parte 3):\n",
    "- Existe a cláusula **.extend()** para string que, diferentemente do **.append()**, permite que nós adicionemos mais de um elemento por vez dentro de uma lista. Quantos elementos quisermos basicamente.\n",
    "- E o mais importante é que faz isso sem que os elementos sejam uma lista dentro de uma lista."
   ]
  },
  {
   "cell_type": "code",
   "execution_count": 35,
   "id": "0e2df55d",
   "metadata": {},
   "outputs": [
    {
     "name": "stdout",
     "output_type": "stream",
     "text": [
      "['Tauan', 'Kristina'] - Tamanho = 2\n",
      "['Tauan', 'Kristina', ['Anouk', 'Alba', 'Oksana']] - Tamanho = 3\n"
     ]
    }
   ],
   "source": [
    "# EXEMPLO 24\n",
    "\n",
    "pessoas = ['Tauan', 'Kristina']\n",
    "print(pessoas, f\"- Tamanho = {len(pessoas)}\")\n",
    "\n",
    "pessoas.append(['Anouk', 'Alba', 'Oksana'])\n",
    "print(pessoas, f\"- Tamanho = {len(pessoas)}\")"
   ]
  },
  {
   "cell_type": "code",
   "execution_count": 36,
   "id": "68eb9659",
   "metadata": {},
   "outputs": [
    {
     "name": "stdout",
     "output_type": "stream",
     "text": [
      "['Tauan', 'Kristina'] - Tamanho = 2\n",
      "['Tauan', 'Kristina', 'Anouk', 'Alba', 'Oksana'] - Tamanho = 5\n"
     ]
    }
   ],
   "source": [
    "# EXEMPLO 25\n",
    "\n",
    "pessoas = ['Tauan', 'Kristina']\n",
    "print(pessoas, f\"- Tamanho = {len(pessoas)}\")\n",
    "\n",
    "pessoas.extend(['Anouk', 'Alba', 'Oksana'])\n",
    "print(pessoas, f\"- Tamanho = {len(pessoas)}\")"
   ]
  },
  {
   "cell_type": "markdown",
   "id": "204f52b3",
   "metadata": {},
   "source": [
    "### Listas (Dicas parte 4):\n",
    "- A cláusula **del** não apaga necessáriamente a existência completa apenas listas. Nós também podemos utilizá-la para deletar elementos da lista separadamente.\n",
    "- Ou também, por exemplo, varrer uma lista e deletar elementos a partir de um certo ponto."
   ]
  },
  {
   "cell_type": "code",
   "execution_count": 43,
   "id": "b9faa764",
   "metadata": {},
   "outputs": [
    {
     "name": "stdout",
     "output_type": "stream",
     "text": [
      "['Tauan', 'Kristina', 'Anouk', 'Alba', 'Oksana'] - Tamanho = 5\n",
      "Lista não encontrada.\n"
     ]
    }
   ],
   "source": [
    "# EXEMPLO 26\n",
    "\n",
    "pessoas = ['Tauan', 'Kristina', 'Anouk', 'Alba', 'Oksana']\n",
    "print(pessoas, f\"- Tamanho = {len(pessoas)}\")\n",
    "\n",
    "del pessoas\n",
    "\n",
    "try:\n",
    "    print(pessoas, f\"- Tamanho = {len(pessoas)}\")\n",
    "except:\n",
    "    print(\"Lista não encontrada.\")"
   ]
  },
  {
   "cell_type": "code",
   "execution_count": 39,
   "id": "83ee5314",
   "metadata": {},
   "outputs": [
    {
     "name": "stdout",
     "output_type": "stream",
     "text": [
      "['Tauan', 'Kristina', 'Anouk', 'Alba', 'Oksana'] - Tamanho = 5\n",
      "['Tauan', 'Kristina', 'Alba', 'Oksana'] - Tamanho = 4\n"
     ]
    }
   ],
   "source": [
    "# EXEMPLO 27\n",
    "\n",
    "pessoas = ['Tauan', 'Kristina', 'Anouk', 'Alba', 'Oksana']\n",
    "print(pessoas, f\"- Tamanho = {len(pessoas)}\")\n",
    "\n",
    "del pessoas[2]\n",
    "\n",
    "try:\n",
    "    print(pessoas, f\"- Tamanho = {len(pessoas)}\")\n",
    "except:\n",
    "    print(\"Lista não encontrada.\")"
   ]
  },
  {
   "cell_type": "code",
   "execution_count": 40,
   "id": "a4193195",
   "metadata": {},
   "outputs": [
    {
     "name": "stdout",
     "output_type": "stream",
     "text": [
      "['Tauan', 'Kristina', 'Anouk', 'Alba', 'Oksana'] - Tamanho = 5\n",
      "['Tauan', 'Kristina'] - Tamanho = 2\n"
     ]
    }
   ],
   "source": [
    "# EXEMPLO 28\n",
    "\n",
    "pessoas = ['Tauan', 'Kristina', 'Anouk', 'Alba', 'Oksana']\n",
    "print(pessoas, f\"- Tamanho = {len(pessoas)}\")\n",
    "\n",
    "del pessoas[2:]\n",
    "\n",
    "try:\n",
    "    print(pessoas, f\"- Tamanho = {len(pessoas)}\")\n",
    "except:\n",
    "    print(\"Lista não encontrada.\")"
   ]
  },
  {
   "cell_type": "markdown",
   "id": "167d63de",
   "metadata": {},
   "source": [
    "### Listas (Dicas parte 5):\n",
    "- Aqui vale uma **OBSERVAÇÃO** muito importante de que: Ao usarmos a cláusula **.clear()** nós deletamos a lista. Ela seguirá existindo, porém, vazia de elementos."
   ]
  },
  {
   "cell_type": "code",
   "execution_count": 41,
   "id": "945934e6",
   "metadata": {},
   "outputs": [
    {
     "name": "stdout",
     "output_type": "stream",
     "text": [
      "['Tauan', 'Kristina', 'Anouk', 'Alba', 'Oksana'] - Tamanho = 5\n",
      "[] - Tamanho = 0\n"
     ]
    }
   ],
   "source": [
    "# EXEMPLO 29\n",
    "\n",
    "pessoas = ['Tauan', 'Kristina', 'Anouk', 'Alba', 'Oksana']\n",
    "print(pessoas, f\"- Tamanho = {len(pessoas)}\")\n",
    "\n",
    "pessoas.clear()\n",
    "print(pessoas, f\"- Tamanho = {len(pessoas)}\")"
   ]
  },
  {
   "cell_type": "markdown",
   "id": "8da21ee9",
   "metadata": {},
   "source": [
    "### Listas (Dicas parte 6):\n",
    "- Lembrar da cláusula **.sort()**? Então, nós podemos fazer ainda mais coisas com ela."
   ]
  },
  {
   "cell_type": "code",
   "execution_count": 48,
   "id": "1fa29b7d",
   "metadata": {},
   "outputs": [
    {
     "name": "stdout",
     "output_type": "stream",
     "text": [
      "['Pedro', 'Anna', 'Kevin', 'Kristina', 'Tauan', 'ana clara', 'beatriz']\n",
      "['Anna', 'Kevin', 'Kristina', 'Pedro', 'Tauan', 'ana clara', 'beatriz']\n"
     ]
    }
   ],
   "source": [
    "# EXEMPLO 30\n",
    "\n",
    "nomes = ['Pedro', 'Anna', 'Kevin', 'Kristina', 'Tauan', 'ana clara', 'beatriz']\n",
    "print(nomes)\n",
    "\n",
    "nomes.sort()\n",
    "print(nomes)"
   ]
  },
  {
   "cell_type": "code",
   "execution_count": 49,
   "id": "6e070cdb",
   "metadata": {},
   "outputs": [
    {
     "name": "stdout",
     "output_type": "stream",
     "text": [
      "['Pedro', 'Anna', 'Kevin', 'Kristina', 'Tauan', 'ana clara', 'beatriz']\n",
      "['beatriz', 'ana clara', 'Tauan', 'Pedro', 'Kristina', 'Kevin', 'Anna']\n"
     ]
    }
   ],
   "source": [
    "# EXEMPLO 31\n",
    "\n",
    "nomes = ['Pedro', 'Anna', 'Kevin', 'Kristina', 'Tauan', 'ana clara', 'beatriz']\n",
    "print(nomes)\n",
    "\n",
    "nomes.sort(reverse = True)\n",
    "print(nomes)"
   ]
  },
  {
   "cell_type": "code",
   "execution_count": 50,
   "id": "003ad206",
   "metadata": {},
   "outputs": [
    {
     "name": "stdout",
     "output_type": "stream",
     "text": [
      "['Pedro', 'Anna', 'Kevin', 'Kristina', 'Tauan', 'ana clara', 'beatriz']\n",
      "['ana clara', 'Anna', 'beatriz', 'Kevin', 'Kristina', 'Pedro', 'Tauan']\n"
     ]
    }
   ],
   "source": [
    "# EXEMPLO 32\n",
    "\n",
    "nomes = ['Pedro', 'Anna', 'Kevin', 'Kristina', 'Tauan', 'ana clara', 'beatriz']\n",
    "print(nomes)\n",
    "\n",
    "nomes.sort(key = str.lower)\n",
    "print(nomes)"
   ]
  },
  {
   "cell_type": "markdown",
   "id": "e237b576",
   "metadata": {},
   "source": [
    "### Listas (Dicas parte 7):\n",
    "- Existem algumas maneiras agora de copiar uma listas dentro de outra:"
   ]
  },
  {
   "cell_type": "code",
   "execution_count": 51,
   "id": "92e72f5f",
   "metadata": {},
   "outputs": [
    {
     "name": "stdout",
     "output_type": "stream",
     "text": [
      "['A', 'B', 'C', 1, 2, 3]\n"
     ]
    }
   ],
   "source": [
    "# EXEMPLO 33\n",
    "\n",
    "lista_1 = ['A', 'B', 'C']\n",
    "lista_2 = [1, 2, 3]\n",
    "\n",
    "lista = lista_1 + lista_2\n",
    "\n",
    "print(lista)"
   ]
  },
  {
   "cell_type": "code",
   "execution_count": 52,
   "id": "ebbad987",
   "metadata": {},
   "outputs": [
    {
     "name": "stdout",
     "output_type": "stream",
     "text": [
      "['A', 'B', 'C', 1, 2, 3]\n"
     ]
    }
   ],
   "source": [
    "# EXEMPLO 34\n",
    "\n",
    "lista_1 = ['A', 'B', 'C']\n",
    "lista_2 = [1, 2, 3]\n",
    "\n",
    "lista_1.extend(lista_2)\n",
    "\n",
    "print(lista_1)"
   ]
  },
  {
   "cell_type": "code",
   "execution_count": 53,
   "id": "9f1b0d61",
   "metadata": {},
   "outputs": [
    {
     "name": "stdout",
     "output_type": "stream",
     "text": [
      "['A', 'B', 'C', 1, 2, 3]\n"
     ]
    }
   ],
   "source": [
    "# EXEMPLO 35\n",
    "\n",
    "lista_1 = ['A', 'B', 'C']\n",
    "lista_2 = [1, 2, 3]\n",
    "\n",
    "for elemento in lista_2:\n",
    "    lista_1.append(elemento)\n",
    "    \n",
    "print(lista_1)"
   ]
  },
  {
   "cell_type": "code",
   "execution_count": 55,
   "id": "bc1d48e9",
   "metadata": {},
   "outputs": [
    {
     "name": "stdout",
     "output_type": "stream",
     "text": [
      "['A', 'B', 'C', '@']\n",
      "['A', 'B', 'C', '#']\n"
     ]
    }
   ],
   "source": [
    "# EXEMPLO 36 - ELEGANT\n",
    "\n",
    "lista_1 = ['A', 'B', 'C']\n",
    "lista_2 = lista_1.copy()\n",
    "\n",
    "lista_1.append('@')\n",
    "lista_2.append('#')\n",
    "\n",
    "print(lista_1)\n",
    "print(lista_2)"
   ]
  },
  {
   "cell_type": "code",
   "execution_count": 56,
   "id": "6d94ff17",
   "metadata": {},
   "outputs": [
    {
     "name": "stdout",
     "output_type": "stream",
     "text": [
      "['A', 'B', 'C', '@']\n",
      "['A', 'B', 'C', '#']\n"
     ]
    }
   ],
   "source": [
    "# EXEMPLO 37 - CLASSIC\n",
    "\n",
    "lista_1 = ['A', 'B', 'C']\n",
    "lista_2 = lista_1[:]\n",
    "\n",
    "lista_1.append('@')\n",
    "lista_2.append('#')\n",
    "\n",
    "print(lista_1)\n",
    "print(lista_2)"
   ]
  },
  {
   "cell_type": "markdown",
   "id": "42d2bc2e",
   "metadata": {},
   "source": [
    "## Parte 13:"
   ]
  },
  {
   "cell_type": "markdown",
   "id": "76eea031",
   "metadata": {},
   "source": [
    "### Tuplas (Dicas parte 1):\n",
    "- O que faz uma tupla ser uma tupla é a vírgula e não os parênteses."
   ]
  },
  {
   "cell_type": "code",
   "execution_count": 57,
   "id": "d89f223e",
   "metadata": {},
   "outputs": [
    {
     "name": "stdout",
     "output_type": "stream",
     "text": [
      "<class 'str'>\n"
     ]
    }
   ],
   "source": [
    "# EXEMPLO 38\n",
    "\n",
    "lista = ('A')\n",
    "print(type(lista))"
   ]
  },
  {
   "cell_type": "code",
   "execution_count": 58,
   "id": "397138d9",
   "metadata": {},
   "outputs": [
    {
     "name": "stdout",
     "output_type": "stream",
     "text": [
      "<class 'tuple'>\n"
     ]
    }
   ],
   "source": [
    "# EXEMPLO 39\n",
    "\n",
    "lista = ('A', )\n",
    "print(type(lista))"
   ]
  },
  {
   "cell_type": "markdown",
   "id": "7f212b57",
   "metadata": {},
   "source": [
    "### Tuplas (Dicas parte 2):\n",
    "- Tuplas são imutáveis **mesmo**? Sim, elas são. Mas como bom brasileiro **eu não desisto nunca**. E **TODA** gambiarra é válida."
   ]
  },
  {
   "cell_type": "code",
   "execution_count": 61,
   "id": "70c1f11d",
   "metadata": {},
   "outputs": [
    {
     "name": "stdout",
     "output_type": "stream",
     "text": [
      "(1, 2, 3)\n",
      "[1, 2, 3]\n",
      "[1, 2, 3, 4]\n",
      "(1, 2, 3, 4)\n"
     ]
    }
   ],
   "source": [
    "# EXEMPLO 40\n",
    "\n",
    "tupla = (1, 2, 3)\n",
    "lista = list(tupla)\n",
    "\n",
    "print(tupla)\n",
    "print(lista)\n",
    "\n",
    "lista.append(4)\n",
    "print(lista)\n",
    "\n",
    "tupla = tuple(lista)\n",
    "print(tupla)"
   ]
  },
  {
   "cell_type": "markdown",
   "id": "3e9b11c5",
   "metadata": {},
   "source": [
    "### Tuplas (Dicas parte 3):\n",
    "- Podemos também **desempacotar** tuplas."
   ]
  },
  {
   "cell_type": "code",
   "execution_count": 63,
   "id": "9a6e45f0",
   "metadata": {},
   "outputs": [
    {
     "name": "stdout",
     "output_type": "stream",
     "text": [
      "('A', 'B', 'C')\n",
      "x:  A\n",
      "y:  B\n",
      "z:  C\n"
     ]
    }
   ],
   "source": [
    "# EXEMPLO 41\n",
    "\n",
    "letras = ('A', 'B', 'C')\n",
    "print(letras)\n",
    "\n",
    "(x, y, z) = letras\n",
    "print(\"x: \", x)\n",
    "print(\"y: \", y)\n",
    "print(\"z: \", z)"
   ]
  },
  {
   "cell_type": "code",
   "execution_count": 64,
   "id": "4107d289",
   "metadata": {},
   "outputs": [
    {
     "name": "stdout",
     "output_type": "stream",
     "text": [
      "('A', 'B', 'C')\n",
      "x:  A\n",
      "y:  ['B', 'C']\n"
     ]
    }
   ],
   "source": [
    "# EXEMPLO 42\n",
    "\n",
    "letras = ('A', 'B', 'C')\n",
    "print(letras)\n",
    "\n",
    "(x, *y) = letras\n",
    "print(\"x: \", x)\n",
    "print(\"y: \", y)"
   ]
  },
  {
   "cell_type": "code",
   "execution_count": 65,
   "id": "8ea163d7",
   "metadata": {},
   "outputs": [
    {
     "name": "stdout",
     "output_type": "stream",
     "text": [
      "('A', 'B', 'C', 'D', 'E')\n",
      "x:  A\n",
      "y:  ['B', 'C', 'D']\n",
      "z:  E\n"
     ]
    }
   ],
   "source": [
    "# EXEMPLO 43\n",
    "\n",
    "letras = ('A', 'B', 'C', 'D', 'E')\n",
    "print(letras)\n",
    "\n",
    "(x, *y, z) = letras\n",
    "print(\"x: \", x)\n",
    "print(\"y: \", y)\n",
    "print(\"z: \", z)"
   ]
  },
  {
   "cell_type": "markdown",
   "id": "af562ab7",
   "metadata": {},
   "source": [
    "## Parte 14:"
   ]
  },
  {
   "cell_type": "markdown",
   "id": "b70665e4",
   "metadata": {},
   "source": [
    "Lembre-se:\n",
    "1. ***Listas***: Coleção **ORDENADA**, **MUTÁVEL** e que **PERMITE** valores duplicados;\n",
    "2. ***Tuplas***: Coleção **ORDENADA**, **IMUTÁVEL** e que **PERMITE** valores duplicados;\n",
    "3. ***Dicionários***: Coleção **DESORDENADA**, **MUTÁVEL** e que **NÃO PERMITE** valores duplicados."
   ]
  },
  {
   "cell_type": "markdown",
   "id": "69ba2c3d",
   "metadata": {},
   "source": [
    "### Dicionários (Dicas parte 1):\n",
    "- Existem também outras formas de como acessar o valor dentro de um dicionário."
   ]
  },
  {
   "cell_type": "code",
   "execution_count": 67,
   "id": "4a450fac",
   "metadata": {},
   "outputs": [
    {
     "name": "stdout",
     "output_type": "stream",
     "text": [
      "Tauan\n",
      "Tauan\n"
     ]
    }
   ],
   "source": [
    "# EXEMPLO 44\n",
    "\n",
    "cadastro = {'Nome':'Tauan', 'Idade':27, 'Nacionaliadade':'Brasileiro'}\n",
    "print(cadastro['Nome'])\n",
    "print(cadastro.get('Nome'))"
   ]
  },
  {
   "cell_type": "markdown",
   "id": "072699d2",
   "metadata": {},
   "source": [
    "### Dicionários (Dicas parte 2):\n",
    "- Podemos verificar se existe a chave pela qual procuramos dentro de um dicionário."
   ]
  },
  {
   "cell_type": "code",
   "execution_count": 72,
   "id": "26deea98",
   "metadata": {},
   "outputs": [
    {
     "name": "stdout",
     "output_type": "stream",
     "text": [
      "A chave 'Nome' existe no dicionário.\n"
     ]
    }
   ],
   "source": [
    "# EXEMPLO 45\n",
    "\n",
    "cadastro = {'Nome':'Tauan', 'Idade':27, 'Nacionaliadade':'Brasileiro'}\n",
    "if \"Nome\" in cadastro:\n",
    "    print(\"A chave 'Nome' existe no dicionário.\")\n",
    "else:\n",
    "    print(\"A chave 'Nome' NÃO existe no dicionário.\")"
   ]
  },
  {
   "cell_type": "markdown",
   "id": "944a2e04",
   "metadata": {},
   "source": [
    "### Dicionários (Dicas parte 3):\n",
    "- Existem outras formas de alterar os valores que estão dentro de um dicionário."
   ]
  },
  {
   "cell_type": "code",
   "execution_count": 76,
   "id": "cf8b09e5",
   "metadata": {},
   "outputs": [
    {
     "name": "stdout",
     "output_type": "stream",
     "text": [
      "{'Nome': 'Tauan', 'Idade': 27, 'Nacionaliadade': 'Brasileiro'}\n",
      "{'Nome': 'Holmes', 'Idade': 27, 'Nacionaliadade': 'Brasileiro'}\n",
      "{'Nome': 'Weiss', 'Idade': 27, 'Nacionaliadade': 'Brasileiro'}\n"
     ]
    }
   ],
   "source": [
    "# EXEMPLO 46\n",
    "\n",
    "cadastro = {'Nome':'Tauan', 'Idade':27, 'Nacionaliadade':'Brasileiro'}\n",
    "print(cadastro)\n",
    "\n",
    "cadastro['Nome'] = 'Holmes'\n",
    "print(cadastro)\n",
    "\n",
    "cadastro.update({'Nome':'Weiss'})\n",
    "print(cadastro)"
   ]
  },
  {
   "cell_type": "markdown",
   "id": "e28a0c11",
   "metadata": {},
   "source": [
    "### Dicionários (Dicas parte 4):\n",
    "- Existe a cláusula **.popitem()** em Python (da versão 3.7 e acima) que nos permite deletar o último item de dentro do nosso dicionário."
   ]
  },
  {
   "cell_type": "code",
   "execution_count": 79,
   "id": "2bf62dbc",
   "metadata": {},
   "outputs": [
    {
     "name": "stdout",
     "output_type": "stream",
     "text": [
      "{'Nome': 'Tauan', 'Idade': 27, 'Nacionaliadade': 'Brasileiro'}\n",
      "{'Nome': 'Tauan', 'Idade': 27}\n"
     ]
    }
   ],
   "source": [
    "# EXEMPLO 47\n",
    "\n",
    "cadastro = {'Nome':'Tauan', 'Idade':27, 'Nacionaliadade':'Brasileiro'}\n",
    "print(cadastro)\n",
    "\n",
    "cadastro.popitem()\n",
    "print(cadastro)"
   ]
  },
  {
   "cell_type": "markdown",
   "id": "be7bc76e",
   "metadata": {},
   "source": [
    "### Dicionários (Dicas parte 5):\n",
    "- Contudo. em Python, nós também temos a cláusula **.pop()** que podemos usar para deleter um valor em específico."
   ]
  },
  {
   "cell_type": "code",
   "execution_count": 80,
   "id": "77eedfe4",
   "metadata": {},
   "outputs": [
    {
     "name": "stdout",
     "output_type": "stream",
     "text": [
      "{'Nome': 'Tauan', 'Idade': 27, 'Nacionaliadade': 'Brasileiro'}\n",
      "{'Nome': 'Tauan', 'Nacionaliadade': 'Brasileiro'}\n"
     ]
    }
   ],
   "source": [
    "# EXEMPLO 48\n",
    "\n",
    "cadastro = {'Nome':'Tauan', 'Idade':27, 'Nacionaliadade':'Brasileiro'}\n",
    "print(cadastro)\n",
    "\n",
    "cadastro.pop('Idade')\n",
    "print(cadastro)"
   ]
  },
  {
   "cell_type": "markdown",
   "id": "6410495f",
   "metadata": {},
   "source": [
    "### Dicionários (Dicas parte 6):\n",
    "- E também seguem válidas as propriedades da cláusula **del**."
   ]
  },
  {
   "cell_type": "code",
   "execution_count": 81,
   "id": "ee5d5716",
   "metadata": {},
   "outputs": [
    {
     "name": "stdout",
     "output_type": "stream",
     "text": [
      "{'Nome': 'Tauan', 'Idade': 27, 'Nacionaliadade': 'Brasileiro'}\n",
      "{'Nome': 'Tauan', 'Nacionaliadade': 'Brasileiro'}\n"
     ]
    }
   ],
   "source": [
    "# EXEMPLO 49\n",
    "\n",
    "cadastro = {'Nome':'Tauan', 'Idade':27, 'Nacionaliadade':'Brasileiro'}\n",
    "print(cadastro)\n",
    "\n",
    "del cadastro[\"Idade\"]\n",
    "print(cadastro)"
   ]
  },
  {
   "cell_type": "markdown",
   "id": "16ce9a66",
   "metadata": {},
   "source": [
    "### Dicionários (Dicas parte 7):\n",
    "- Também podemos usar a cláusula **del** para deletar o dicionário inteiramente. Assim como podemos usar a cláusula **.clear()**"
   ]
  },
  {
   "cell_type": "code",
   "execution_count": 82,
   "id": "265d1350",
   "metadata": {},
   "outputs": [
    {
     "name": "stdout",
     "output_type": "stream",
     "text": [
      "{'Nome': 'Tauan', 'Idade': 27, 'Nacionaliadade': 'Brasileiro'}\n",
      "Dicionário não encontrado.\n"
     ]
    }
   ],
   "source": [
    "# EXEMPLO 50\n",
    "\n",
    "cadastro = {'Nome':'Tauan', 'Idade':27, 'Nacionaliadade':'Brasileiro'}\n",
    "print(cadastro)\n",
    "\n",
    "del cadastro\n",
    "try:\n",
    "    print(cadastro)\n",
    "except:\n",
    "    print(\"Dicionário não encontrado.\")"
   ]
  },
  {
   "cell_type": "code",
   "execution_count": 83,
   "id": "b2ecf737",
   "metadata": {},
   "outputs": [
    {
     "name": "stdout",
     "output_type": "stream",
     "text": [
      "{'Nome': 'Tauan', 'Idade': 27, 'Nacionaliadade': 'Brasileiro'}\n",
      "{}\n"
     ]
    }
   ],
   "source": [
    "# EXEMPLO 51\n",
    "\n",
    "cadastro = {'Nome':'Tauan', 'Idade':27, 'Nacionaliadade':'Brasileiro'}\n",
    "print(cadastro)\n",
    "\n",
    "cadastro.clear()\n",
    "print(cadastro)"
   ]
  },
  {
   "cell_type": "markdown",
   "id": "002d28b4",
   "metadata": {},
   "source": [
    "### Dicionários (Dicas parte 8):\n",
    "- Cuidem com os seguintes códigos:"
   ]
  },
  {
   "cell_type": "code",
   "execution_count": 84,
   "id": "bf128910",
   "metadata": {},
   "outputs": [
    {
     "name": "stdout",
     "output_type": "stream",
     "text": [
      "{'Nome': 'Tauan', 'Idade': 27, 'Nacionaliadade': 'Brasileiro'}\n",
      "Nome\n",
      "Idade\n",
      "Nacionaliadade\n"
     ]
    }
   ],
   "source": [
    "# EXEMPLO 52 - IMPRIMINDO A CHAVE \n",
    "\n",
    "cadastro = {'Nome':'Tauan', 'Idade':27, 'Nacionaliadade':'Brasileiro'}\n",
    "print(cadastro)\n",
    "\n",
    "for elemento in cadastro:\n",
    "    print(elemento)"
   ]
  },
  {
   "cell_type": "code",
   "execution_count": 86,
   "id": "20ca30da",
   "metadata": {},
   "outputs": [
    {
     "name": "stdout",
     "output_type": "stream",
     "text": [
      "{'Nome': 'Tauan', 'Idade': 27, 'Nacionaliadade': 'Brasileiro'}\n",
      "Tauan\n",
      "27\n",
      "Brasileiro\n"
     ]
    }
   ],
   "source": [
    "# EXEMPLO 53 - IMPRIMINDO O VALOR \n",
    "\n",
    "cadastro = {'Nome':'Tauan', 'Idade':27, 'Nacionaliadade':'Brasileiro'}\n",
    "print(cadastro)\n",
    "\n",
    "for elemento in cadastro:\n",
    "    print(cadastro[elemento])"
   ]
  },
  {
   "cell_type": "markdown",
   "id": "b9d515b3",
   "metadata": {},
   "source": [
    "### Dicionários (Dicas parte 9):\n",
    "- É possível criar dicionários a partir de listas ou tuplas:"
   ]
  },
  {
   "cell_type": "code",
   "execution_count": 87,
   "id": "9791e0b7",
   "metadata": {},
   "outputs": [
    {
     "name": "stdout",
     "output_type": "stream",
     "text": [
      "{'Nome': None, 'Idade': None, 'Sexo': None}\n"
     ]
    }
   ],
   "source": [
    "# EXEMPLO 54: list -> dict\n",
    "\n",
    "lista = ['Nome', 'Idade', 'Sexo']\n",
    "dicionario = dict.fromkeys(lista)\n",
    "print(dicionario)"
   ]
  },
  {
   "cell_type": "code",
   "execution_count": 88,
   "id": "0e3ee8b0",
   "metadata": {},
   "outputs": [
    {
     "name": "stdout",
     "output_type": "stream",
     "text": [
      "{'Nome': None, 'Idade': None, 'Sexo': None}\n"
     ]
    }
   ],
   "source": [
    "# EXEMPLO 55: tuple -> dict\n",
    "\n",
    "lista = ('Nome', 'Idade', 'Sexo')\n",
    "dicionario = dict.fromkeys(lista)\n",
    "print(dicionario)"
   ]
  },
  {
   "cell_type": "code",
   "execution_count": 89,
   "id": "46184188",
   "metadata": {},
   "outputs": [
    {
     "name": "stdout",
     "output_type": "stream",
     "text": [
      "{'Nome': 0, 'Idade': 0, 'Sexo': 0}\n"
     ]
    }
   ],
   "source": [
    "# EXEMPLO 56\n",
    "\n",
    "lista = ('Nome', 'Idade', 'Sexo')\n",
    "valor = 0\n",
    "dicionario = dict.fromkeys(lista, valor)\n",
    "print(dicionario)"
   ]
  },
  {
   "cell_type": "code",
   "execution_count": 90,
   "id": "55b309ed",
   "metadata": {},
   "outputs": [
    {
     "name": "stdout",
     "output_type": "stream",
     "text": [
      "{'Nome': ('A', 'B', 'C'), 'Idade': ('A', 'B', 'C'), 'Sexo': ('A', 'B', 'C')}\n"
     ]
    }
   ],
   "source": [
    "# EXEMPLO 57\n",
    "\n",
    "lista = ('Nome', 'Idade', 'Sexo')\n",
    "valor = ('A', 'B', 'C')\n",
    "dicionario = dict.fromkeys(lista, valor)\n",
    "print(dicionario)"
   ]
  },
  {
   "cell_type": "markdown",
   "id": "67d603f2",
   "metadata": {},
   "source": [
    "## Parte 15:\n",
    "\n",
    "### As 'boas práticas da programa'\n",
    "\n",
    "E por fim, mas não menos importante, aquilo que todo o programador precisa saber, as \"Boas práticas da programação\"! Então, vamos ler junto esse artigo que eu li gostei muito e espero vocês também gostem:\n",
    "\n",
    "1. https://www.devmedia.com.br/boas-praticas-de-programacao/31163"
   ]
  },
  {
   "cell_type": "code",
   "execution_count": null,
   "id": "eff90a6d",
   "metadata": {},
   "outputs": [],
   "source": []
  }
 ],
 "metadata": {
  "kernelspec": {
   "display_name": "Python 3 (ipykernel)",
   "language": "python",
   "name": "python3"
  },
  "language_info": {
   "codemirror_mode": {
    "name": "ipython",
    "version": 3
   },
   "file_extension": ".py",
   "mimetype": "text/x-python",
   "name": "python",
   "nbconvert_exporter": "python",
   "pygments_lexer": "ipython3",
   "version": "3.9.12"
  }
 },
 "nbformat": 4,
 "nbformat_minor": 5
}
