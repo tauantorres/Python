{
 "cells": [
  {
   "cell_type": "markdown",
   "id": "fa713ae4",
   "metadata": {},
   "source": [
    "[Exercício 5] Escreva um programa que:\n",
    " 1) Tenha UMA lista chamada números;\n",
    " 2) Tenha DUAS funções chamadas sorteia() e somaPar().\n",
    " 3) A primeira função vaisortear 5 números entre 1 e 100 e vai colocá-los dentro da lista;\n",
    " 4) A segunda função vai mostrar a soma entre todos os valores PARES sorteados pela função anterior."
   ]
  },
  {
   "cell_type": "code",
   "execution_count": 39,
   "id": "30146bed",
   "metadata": {},
   "outputs": [
    {
     "name": "stdout",
     "output_type": "stream",
     "text": [
      "Sorteando os valores: 82 68 63 26 63  PRONTO!\n",
      "\n",
      "A soma dos valores pares de [82, 68, 63, 26, 63] é 176\n"
     ]
    }
   ],
   "source": [
    "from random import randint\n",
    "from time import sleep\n",
    "numeros = list()\n",
    "sorteia(numeros)\n",
    "somaPar(numeros)"
   ]
  },
  {
   "cell_type": "code",
   "execution_count": 38,
   "id": "0ec7dd75",
   "metadata": {},
   "outputs": [],
   "source": [
    "def sorteia(lista):\n",
    "    print(\"Sorteando os valores: \", end='')\n",
    "    for i in range(0, 5):\n",
    "        sleep(0.5)\n",
    "        valor = randint(1, 100)\n",
    "        print(valor, end=' ')\n",
    "        lista.append(valor)\n",
    "    sleep(0.5)\n",
    "    print(\" PRONTO!\\n\")"
   ]
  },
  {
   "cell_type": "code",
   "execution_count": 37,
   "id": "e01d8b01",
   "metadata": {},
   "outputs": [],
   "source": [
    "def somaPar(lista):\n",
    "    soma = 0\n",
    "    sleep(0.5)\n",
    "    for elemento in lista:\n",
    "        if elemento % 2 == 0:\n",
    "            soma += elemento\n",
    "    print(f\"A soma dos valores pares de {lista} é {soma}\")"
   ]
  },
  {
   "cell_type": "code",
   "execution_count": null,
   "id": "4297b9c0",
   "metadata": {},
   "outputs": [],
   "source": []
  }
 ],
 "metadata": {
  "kernelspec": {
   "display_name": "Python 3 (ipykernel)",
   "language": "python",
   "name": "python3"
  },
  "language_info": {
   "codemirror_mode": {
    "name": "ipython",
    "version": 3
   },
   "file_extension": ".py",
   "mimetype": "text/x-python",
   "name": "python",
   "nbconvert_exporter": "python",
   "pygments_lexer": "ipython3",
   "version": "3.9.12"
  }
 },
 "nbformat": 4,
 "nbformat_minor": 5
}
