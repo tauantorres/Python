{
 "cells": [
  {
   "cell_type": "markdown",
   "id": "34f70e0a",
   "metadata": {},
   "source": [
    "[Exercício 4] Escreva um programa que tenha uma função chamada maior(), que receba vários parâmetros com valores inteiros aleatoriamente. Seu programa tem  que analisar todos os valores e dizer qual deles é o maior."
   ]
  },
  {
   "cell_type": "code",
   "execution_count": null,
   "id": "fa372c71",
   "metadata": {},
   "outputs": [],
   "source": [
    "def linha(comprimento, opcao):\n",
    "    d = comprimento\n",
    "    \n",
    "    if opcao == 1:     \n",
    "        print('=' * d)\n",
    "    \n",
    "    if opcao == 2:\n",
    "        print(f\"{'< RESULTADOS >':=^{d}}\")"
   ]
  },
  {
   "cell_type": "code",
   "execution_count": null,
   "id": "4aa4ca1c",
   "metadata": {},
   "outputs": [],
   "source": [
    "def invalido(saida):\n",
    "    txt = 'RESPOSTA INVÁLIDA!'\n",
    "    d = len(txt)*4\n",
    "    txt1 = 'Isso não é um número. Tente novamente.'\n",
    "    txt2 = 'Isso não é uma letra. Tente novamente.'\n",
    "    txt3 = 'Opção não existe. Tente novamente.'\n",
    "    \n",
    "    \n",
    "    if saida == 1: # ЭТО НЕ ЧИСЛА\n",
    "        print(f\"{'=' * d}\\n\\033[31m{txt:^{d}}\\033[m\\n{txt1:^{d}}\\n{'=' * d}\")\n",
    "    if saida == 2: # ЭТО НЕ БУКВА, УВАК\n",
    "        print(f\"{'=' * d}\\n\\033[31m{txt:^{d}}\\033[m\\n{txt2:^{d}}\\n{'=' * d}\")\n",
    "    if saida == 3: # ВЫБОР НЕ СУЩЕСТВУЕТ \n",
    "        print(f\"{'=' * d}\\n\\033[31m{txt:^{d}}\\033[m\\n{txt3:^{d}}\\n{'=' * d}\")\n"
   ]
  },
  {
   "cell_type": "code",
   "execution_count": null,
   "id": "d35c8670",
   "metadata": {},
   "outputs": [],
   "source": [
    "def maior(lista):\n",
    "    linha(50, 2)\n",
    "    print(f\"Você digitou os valores: {lista}.\")\n",
    "    print(f\"Ao total são {len(lista)} números.\")\n",
    "    print(f\"O maior valor digitado foi {max(lista)}\")\n",
    "    linha(50, 1)\n"
   ]
  },
  {
   "cell_type": "code",
   "execution_count": null,
   "id": "0074d77d",
   "metadata": {},
   "outputs": [],
   "source": [
    "# MAIN FUNCTION\n",
    "import time\n",
    "valores = list()\n",
    "\n",
    "while True:\n",
    "    \n",
    "    auxiliar = input(\"Digite um número: \")\n",
    "    while not auxiliar.isnumeric():\n",
    "        invalido(1)\n",
    "        auxiliar = input(\"Digite um número: \")\n",
    "\n",
    "    auxiliar = int(auxiliar)\n",
    "    valores.append(auxiliar)\n",
    "    \n",
    "    resposta = str(input(\"Deseja continuar [S/N]? \")).strip().upper()[0]\n",
    "    \n",
    "    while resposta not in 'SN':\n",
    "        invalido(3)\n",
    "        resposta = str(input(\"Deseja continuar [S/N]? \")).strip().upper()[0]\n",
    "        \n",
    "    if resposta == 'N':\n",
    "        break\n",
    "        \n",
    "maior(valores)"
   ]
  }
 ],
 "metadata": {
  "kernelspec": {
   "display_name": "Python 3 (ipykernel)",
   "language": "python",
   "name": "python3"
  },
  "language_info": {
   "codemirror_mode": {
    "name": "ipython",
    "version": 3
   },
   "file_extension": ".py",
   "mimetype": "text/x-python",
   "name": "python",
   "nbconvert_exporter": "python",
   "pygments_lexer": "ipython3",
   "version": "3.9.12"
  }
 },
 "nbformat": 4,
 "nbformat_minor": 5
}
