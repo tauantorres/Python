{
 "cells": [
  {
   "cell_type": "markdown",
   "id": "47374c6d",
   "metadata": {},
   "source": [
    "# Aula 20\n",
    "# Parte 1\n",
    "## Manipulação de Arquivos com 'os'\n",
    "\n",
    "- Vamos aprender algumas utilidades da biblioteca 'OS':\n",
    "1. https://docs.python.org/3/library/os.html?highlight=os#module-os\n",
    "\n",
    "**DICA**: Comecem a se acostumar a usar a documentação do Python. Procurando, vocês mesmos, para o quê funciona cada biblioteca, ou função, ou seja lá o que vocês buscam."
   ]
  },
  {
   "cell_type": "code",
   "execution_count": null,
   "id": "642bca57",
   "metadata": {},
   "outputs": [],
   "source": [
    "# EXEMPLO 1\n",
    "import os\n",
    "\n",
    "print(os.name)"
   ]
  },
  {
   "cell_type": "markdown",
   "id": "736dc41c",
   "metadata": {},
   "source": [
    "## Verificando a existência de um arquivo ou diretório:"
   ]
  },
  {
   "cell_type": "code",
   "execution_count": null,
   "id": "5c746fbc",
   "metadata": {},
   "outputs": [],
   "source": [
    "# EXEMPLO 2\n",
    "\n",
    "import os\n",
    "\n",
    "# Verificando se um arquivo existe:\n",
    "print(\"Verificação de arquivo:\")\n",
    "print(os.path.exists('testeos.txt'))\n",
    "print(os.path.exists('main.py'))\n",
    "\n",
    "# Verificando se um diretório existe:\n",
    "print(\"\\nVerificação de diretório:\")\n",
    "print(os.path.exists('.ipynb_checkpoints'))\n",
    "print(os.path.exists('Teste'))"
   ]
  },
  {
   "cell_type": "code",
   "execution_count": null,
   "id": "47644595",
   "metadata": {},
   "outputs": [],
   "source": [
    "# EXEMPLO 3\n",
    "\n",
    "import os\n",
    "\n",
    "# Verificando se um arquivo existe dentro de um diretório:\n",
    "print(\"Verificação de arquivo dentro de um diretório:\")\n",
    "print(os.path.exists('Teste/testeos.txt'))\n",
    "print(os.path.exists('Teste/main.py'))"
   ]
  },
  {
   "cell_type": "markdown",
   "id": "a82e9bce",
   "metadata": {},
   "source": [
    "Caso queiram aprender mais sobre sobre a biblioteca 'os', recomendo ler mais em no link da primeira célula."
   ]
  },
  {
   "cell_type": "markdown",
   "id": "ae9ead05",
   "metadata": {},
   "source": [
    "# Parte 2\n",
    "## Manipulação de Arquivos sem a biblioteca 'os'"
   ]
  },
  {
   "cell_type": "markdown",
   "id": "79889769",
   "metadata": {},
   "source": [
    "### 1. **Abrindo** um arquivo:"
   ]
  },
  {
   "cell_type": "code",
   "execution_count": 1,
   "id": "29933f54",
   "metadata": {},
   "outputs": [
    {
     "name": "stdout",
     "output_type": "stream",
     "text": [
      "O arquivo está aberto.\n"
     ]
    }
   ],
   "source": [
    "# EXEMPLO 4\n",
    "\n",
    "arquivo = open('receita.txt')\n",
    "\n",
    "# Verificando se o arquivo está aberto:\n",
    "if arquivo.closed == True:                # Ou seja, o arquivo está FECHADO.\n",
    "    print(\"O arquivo está fechado.\")\n",
    "else:                                     # Ou seja, o arquivo está ABERTO.\n",
    "    print(\"O arquivo está aberto.\")\n",
    "    \n",
    "arquivo.close()"
   ]
  },
  {
   "cell_type": "markdown",
   "id": "79ad9dfa",
   "metadata": {},
   "source": [
    "### 2. **Fechando** um arquivo:"
   ]
  },
  {
   "cell_type": "code",
   "execution_count": 2,
   "id": "31d3de71",
   "metadata": {},
   "outputs": [
    {
     "name": "stdout",
     "output_type": "stream",
     "text": [
      "O arquivo está aberto.\n",
      "O arquivo está fechado.\n"
     ]
    }
   ],
   "source": [
    "# EXEMPLO 5\n",
    "\n",
    "def AbertoFechado(arquivo): \n",
    "    # Verificando se o arquivo está aberto:\n",
    "    if arquivo.closed == True:                # Ou seja, o arquivo está FECHADO.\n",
    "        print(\"O arquivo está fechado.\")\n",
    "    else:                                     # Ou seja, o arquivo está ABERTO.\n",
    "        print(\"O arquivo está aberto.\")\n",
    "    \n",
    "    \n",
    "arquivo = open('receita.txt')\n",
    "AbertoFechado(arquivo)\n",
    "\n",
    "arquivo.close()\n",
    "AbertoFechado(arquivo)"
   ]
  },
  {
   "cell_type": "markdown",
   "id": "61298e8c",
   "metadata": {},
   "source": [
    "### 3. **Lendo** um arquivo:"
   ]
  },
  {
   "cell_type": "code",
   "execution_count": 9,
   "id": "2fff7497",
   "metadata": {},
   "outputs": [
    {
     "name": "stdout",
     "output_type": "stream",
     "text": [
      "Receita:\n",
      "\n",
      "1) 1 colher de açúcar;\n",
      "2) 2 xícaras de farinhas;\n",
      "3) 2 ovos;\n",
      "4) 1/2 xícara de leite.\n"
     ]
    }
   ],
   "source": [
    "# EXEMPLO 6 - O texto se encontra na mesma pasta que o código.\n",
    "\n",
    "arquivo = open('receita.txt')\n",
    "print(arquivo.read())\n",
    "arquivo.close()"
   ]
  },
  {
   "cell_type": "code",
   "execution_count": 8,
   "id": "08028e38",
   "metadata": {},
   "outputs": [
    {
     "name": "stdout",
     "output_type": "stream",
     "text": [
      "Receita Brigadeiro:\n",
      "\n",
      "1) 1 caixa de Leite Condensado;\n",
      "2) 1 Colher (sopa) de Margarina sem sal;\n",
      "3) 7 Colheres (sopa) de achocolatado;\n",
      "4) Chocolate granulado.\n"
     ]
    }
   ],
   "source": [
    "# EXEMPLO 7 - O texto se encontra em uma subpasta que código.\n",
    "\n",
    "arquivo = open('Teste/brigadeiro.txt')\n",
    "print(arquivo.read())\n",
    "arquivo.close()"
   ]
  },
  {
   "cell_type": "markdown",
   "id": "9818d180",
   "metadata": {},
   "source": [
    "### 4. **Lendo** apenas **uma linha** do arquivo de texto:"
   ]
  },
  {
   "cell_type": "code",
   "execution_count": 12,
   "id": "338e3332",
   "metadata": {},
   "outputs": [
    {
     "name": "stdout",
     "output_type": "stream",
     "text": [
      "1) Primeira linha do arquivo;\n",
      "\n",
      "2) Segunda linha do arquivo;\n",
      "\n"
     ]
    }
   ],
   "source": [
    "# EXEMPLO 8\n",
    "\n",
    "arquivo = open('linhas.txt')\n",
    "print(arquivo.readline())\n",
    "print(arquivo.readline())\n",
    "arquivo.close()"
   ]
  },
  {
   "cell_type": "markdown",
   "id": "d31457ab",
   "metadata": {},
   "source": [
    "### 5. **Lendo** um arquivo usando a cláusula 'with':"
   ]
  },
  {
   "cell_type": "code",
   "execution_count": 15,
   "id": "dc716806",
   "metadata": {},
   "outputs": [
    {
     "name": "stdout",
     "output_type": "stream",
     "text": [
      "\n",
      "O arquivo está aberto.\n",
      "\n",
      "Receita:\n",
      "\n",
      "1) 1 colher de açúcar;\n",
      "2) 2 xícaras de farinhas;\n",
      "3) 2 ovos;\n",
      "4) 1/2 xícara de leite.\n",
      "\n",
      "O arquivo está fechado.\n",
      "\n"
     ]
    }
   ],
   "source": [
    "# EXEMPLO 9\n",
    "\n",
    "def AbertoFechado(arquivo): \n",
    "    if arquivo.closed == True:                \n",
    "        print(\"\\nO arquivo está fechado.\\n\")\n",
    "    else:                                     \n",
    "        print(\"\\nO arquivo está aberto.\\n\")\n",
    "\n",
    "\n",
    "with open('receita.txt') as arquivo:\n",
    "    AbertoFechado(arquivo)\n",
    "    print(arquivo.read())\n",
    "    \n",
    "AbertoFechado(arquivo)"
   ]
  },
  {
   "cell_type": "markdown",
   "id": "b7ffeb22",
   "metadata": {},
   "source": [
    "### 6. Escrevendo dentro de um arquivo:\n",
    "\n",
    "**OBS**: A função **open()** recebe mais de um parâmetro (leiam na documentação mais tarde). Um dos parâmetros é o caminho para poder encotrar o arquivo e o outro é qual a função que devemos executar. Ou seja, ler ou escrever no arquivo.\n",
    "1) Caso queira **ler** o que esta no arquivo, o segundo p arâmetro será **'r'**;<br>\n",
    "2) Caso queira **escrever** algo dentro do arquivo, o segundo parâmetro será **'w'**."
   ]
  },
  {
   "cell_type": "code",
   "execution_count": 17,
   "id": "fca61b17",
   "metadata": {},
   "outputs": [
    {
     "name": "stdout",
     "output_type": "stream",
     "text": [
      "Hello, world!\n"
     ]
    }
   ],
   "source": [
    "# EXEMPLO 10\n",
    "        \n",
    "with open('escrever.txt', 'w') as arquivo:\n",
    "    arquivo.write(\"Hello, world!\")\n",
    "\n",
    "with open('escrever.txt', 'r') as arquivo:\n",
    "    print(arquivo.read())"
   ]
  },
  {
   "cell_type": "markdown",
   "id": "26e3938c",
   "metadata": {},
   "source": [
    "- Contudo, observe o próximo exemplo:"
   ]
  },
  {
   "cell_type": "code",
   "execution_count": 18,
   "id": "d97dcebd",
   "metadata": {},
   "outputs": [
    {
     "name": "stdout",
     "output_type": "stream",
     "text": [
      "TESTE 2\n"
     ]
    }
   ],
   "source": [
    "# EXEMPLO 11\n",
    "\n",
    "with open('escrever.txt', 'w') as arquivo:\n",
    "    arquivo.write(\"TESTE 1\")\n",
    "\n",
    "with open('escrever.txt', 'w') as arquivo:\n",
    "    arquivo.write(\"TESTE 2\")    \n",
    "    \n",
    "with open('escrever.txt', 'r') as arquivo:\n",
    "    print(arquivo.read())"
   ]
  },
  {
   "cell_type": "markdown",
   "id": "bdc75509",
   "metadata": {},
   "source": [
    "- Note que, ao abrir o arquivo para escrever o 'TESTE 2', nós **sobre escrevemos** a mensagem que já estava lá. Assim, perdendo a informação anteriormente lá registrada.\n",
    "- Isso ocorre, porque está usando o 'w' como segundo parâmetro. Para corrigir esse \"erro\", vamos aprender um novo parâmetro: O **append**, que será resumido em 'a'. Observe o próximo exemplo:"
   ]
  },
  {
   "cell_type": "code",
   "execution_count": 21,
   "id": "796cffe9",
   "metadata": {},
   "outputs": [
    {
     "name": "stdout",
     "output_type": "stream",
     "text": [
      "TESTE 1\n",
      "TESTE 2\n",
      "\n"
     ]
    }
   ],
   "source": [
    "# EXEMPLO 12\n",
    "\n",
    "with open('append.txt', 'a') as arquivo:\n",
    "    arquivo.write(\"TESTE 1\\n\")\n",
    "\n",
    "with open('append.txt', 'a') as arquivo:\n",
    "    arquivo.write(\"TESTE 2\\n\")    \n",
    "    \n",
    "with open('append.txt', 'r') as arquivo:\n",
    "    print(arquivo.read())"
   ]
  },
  {
   "cell_type": "markdown",
   "id": "08c0754f",
   "metadata": {},
   "source": [
    "### 7. Criando um arquivo em PDF:"
   ]
  },
  {
   "cell_type": "code",
   "execution_count": 26,
   "id": "20ac388c",
   "metadata": {},
   "outputs": [
    {
     "name": "stdout",
     "output_type": "stream",
     "text": [
      "Collecting reportlab\n",
      "  Downloading reportlab-3.6.12-cp39-cp39-win_amd64.whl (2.3 MB)\n",
      "Requirement already satisfied: pillow>=9.0.0 in c:\\users\\user\\anaconda3\\lib\\site-packages (from reportlab) (9.0.1)\n",
      "Installing collected packages: reportlab\n",
      "Successfully installed reportlab-3.6.12\n",
      "Note: you may need to restart the kernel to use updated packages.\n"
     ]
    }
   ],
   "source": [
    "# Primeiro precisamos instalar a biblioteca que\n",
    "# precisamos usar. Visto que usaremos o reportlab\n",
    "# basta digitar a seguinte linha de código.\n",
    "\n",
    "pip install reportlab"
   ]
  },
  {
   "cell_type": "code",
   "execution_count": 27,
   "id": "61028d12",
   "metadata": {},
   "outputs": [],
   "source": [
    "# EXEMPLO 13\n",
    "\n",
    "from reportlab.pdfgen import canvas\n",
    "from reportlab.lib.pagesizes import A4\n",
    "\n",
    "cnv = canvas.Canvas(\"meu_pdf.pdf\")\n",
    "cnv.drawString(250, 450, 'Testando')\n",
    "cnv.save()"
   ]
  },
  {
   "cell_type": "markdown",
   "id": "5e1f01b4",
   "metadata": {},
   "source": [
    "# Prática\n",
    "\n",
    "## Lista de exercícios:\n",
    "\n",
    "1. https://wiki.python.org.br/ExerciciosArquivos"
   ]
  },
  {
   "cell_type": "code",
   "execution_count": null,
   "id": "81a70b04",
   "metadata": {},
   "outputs": [],
   "source": []
  }
 ],
 "metadata": {
  "kernelspec": {
   "display_name": "Python 3 (ipykernel)",
   "language": "python",
   "name": "python3"
  },
  "language_info": {
   "codemirror_mode": {
    "name": "ipython",
    "version": 3
   },
   "file_extension": ".py",
   "mimetype": "text/x-python",
   "name": "python",
   "nbconvert_exporter": "python",
   "pygments_lexer": "ipython3",
   "version": "3.9.12"
  }
 },
 "nbformat": 4,
 "nbformat_minor": 5
}
