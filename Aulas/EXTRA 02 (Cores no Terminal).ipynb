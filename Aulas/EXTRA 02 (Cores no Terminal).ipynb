{
 "cells": [
  {
   "cell_type": "markdown",
   "id": "cdb17fd6",
   "metadata": {},
   "source": [
    "# Cores no Terminal"
   ]
  },
  {
   "cell_type": "markdown",
   "id": "a93fc74b",
   "metadata": {},
   "source": [
    "\\033['style'; 'text'; 'back'm <br>\n",
    "'style' = negrito, italico, sublinhado <br>\n",
    "'text' = cor do texto <br>\n",
    "'back' = cor do fundo <br>\n",
    "\n",
    " #EXEMPLO# <br>\n",
    "\\033[0;33;44m <br>\n",
    "\n",
    "style: <br>\n",
    "0 - None <br>\n",
    "1 - Bold (negrito) <br>\n",
    "4 - Underline (sublinhado) <br>\n",
    "7 - Negative <br>\n",
    "\n",
    "text: <br>\n",
    "30 - branco <br>\n",
    "31 - vermelho <br>\n",
    "32 - verde <br>\n",
    "33 - amarelo <br>\n",
    "34 - azul <br>\n",
    "35 - roxo <br>\n",
    "36 - azul bebe <br>\n",
    "37 - cinza (DEFAULT)<br>\n",
    "\n",
    "back: <br>\n",
    "40 - branco <br>\n",
    "41 - vermelho <br>\n",
    "42 - verde <br>\n",
    "43 - amarelo <br>\n",
    "44 - azul <br>\n",
    "45 - roxo <br>\n",
    "46 - azul bebe <br>\n",
    "47 - cinza (DEFAULT)<br>"
   ]
  },
  {
   "cell_type": "code",
   "execution_count": 1,
   "id": "a88fa808",
   "metadata": {},
   "outputs": [
    {
     "name": "stdout",
     "output_type": "stream",
     "text": [
      "\u001b[0;30;41mHello, world!\u001b[m\n",
      "\u001b[4;33;44mHello, world!\u001b[m\n",
      "\u001b[1;35;43mHello, world!\u001b[m\n",
      "\u001b[30;42mHello, world!\u001b[m\n",
      "\u001b[mHello, world!\u001b[m\n",
      "\u001b[7;30mHello, world!\u001b[m\n",
      "Muito prazer \u001b[34mTauan\u001b[m!\n"
     ]
    }
   ],
   "source": [
    "print('\\033[0;30;41mHello, world!\\033[m')\n",
    "print('\\033[4;33;44mHello, world!\\033[m')\n",
    "print('\\033[1;35;43mHello, world!\\033[m')\n",
    "print('\\033[30;42mHello, world!\\033[m')\n",
    "print('\\033[mHello, world!\\033[m')\n",
    "print('\\033[7;30mHello, world!\\033[m')\n",
    "\n",
    "nome = 'Tauan'\n",
    "cores = {'limpa':'\\033[m', 'azul':'\\033[34m'}\n",
    "print('Muito prazer {}{}{}!' .format(cores['azul'], nome, cores['limpa']))"
   ]
  },
  {
   "cell_type": "code",
   "execution_count": null,
   "id": "c32cdc26",
   "metadata": {},
   "outputs": [],
   "source": []
  }
 ],
 "metadata": {
  "kernelspec": {
   "display_name": "Python 3 (ipykernel)",
   "language": "python",
   "name": "python3"
  },
  "language_info": {
   "codemirror_mode": {
    "name": "ipython",
    "version": 3
   },
   "file_extension": ".py",
   "mimetype": "text/x-python",
   "name": "python",
   "nbconvert_exporter": "python",
   "pygments_lexer": "ipython3",
   "version": "3.9.12"
  }
 },
 "nbformat": 4,
 "nbformat_minor": 5
}
