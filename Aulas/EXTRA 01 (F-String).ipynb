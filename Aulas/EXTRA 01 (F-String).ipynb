{
 "cells": [
  {
   "cell_type": "markdown",
   "id": "b31032f9",
   "metadata": {},
   "source": [
    "F-String"
   ]
  },
  {
   "cell_type": "code",
   "execution_count": 2,
   "id": "cffed2a6",
   "metadata": {},
   "outputs": [
    {
     "name": "stdout",
     "output_type": "stream",
     "text": [
      "Eu tenho 27 anos.\n",
      "Eu tenho 27 anos.\n"
     ]
    }
   ],
   "source": [
    "idade = 27\n",
    "\n",
    "# com .format()\n",
    "print(\"Eu tenho {} anos.\".format(idade))\n",
    "\n",
    "# com f-string\n",
    "print(f\"Eu tenho {idade} anos.\")"
   ]
  },
  {
   "cell_type": "code",
   "execution_count": null,
   "id": "859e4c75",
   "metadata": {},
   "outputs": [],
   "source": []
  }
 ],
 "metadata": {
  "kernelspec": {
   "display_name": "Python 3 (ipykernel)",
   "language": "python",
   "name": "python3"
  },
  "language_info": {
   "codemirror_mode": {
    "name": "ipython",
    "version": 3
   },
   "file_extension": ".py",
   "mimetype": "text/x-python",
   "name": "python",
   "nbconvert_exporter": "python",
   "pygments_lexer": "ipython3",
   "version": "3.9.12"
  }
 },
 "nbformat": 4,
 "nbformat_minor": 5
}
