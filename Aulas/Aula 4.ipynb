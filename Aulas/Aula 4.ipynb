{
 "cells": [
  {
   "cell_type": "markdown",
   "id": "c59f47fc",
   "metadata": {},
   "source": [
    "# Estruturas condicionais (Parte 1) "
   ]
  },
  {
   "cell_type": "markdown",
   "id": "27c44cca",
   "metadata": {},
   "source": [
    "**[Exemplo 1]** Escreva um programa que leia a idade do user e diga se ele é maior de idade ou menor de idade."
   ]
  },
  {
   "cell_type": "code",
   "execution_count": 4,
   "id": "92a23255",
   "metadata": {},
   "outputs": [
    {
     "name": "stdout",
     "output_type": "stream",
     "text": [
      "Quantos anos você tem? 13\n",
      "MENOR DE IDADE.\n",
      "FIM\n"
     ]
    }
   ],
   "source": [
    "idade = int(input(\"Quantos anos você tem? \"))\n",
    "\n",
    "if idade < 18:\n",
    "    print(\"MENOR DE IDADE.\")\n",
    "else:\n",
    "    print(\"MAIOR DE IDADE\")\n",
    "\n",
    "print(\"FIM\")"
   ]
  },
  {
   "cell_type": "markdown",
   "id": "0b14956d",
   "metadata": {},
   "source": [
    "**[Exemplo 2]** Escreva um programa que leia a idade do user e diga se ele é maior de idade ou menor de idade. Porém escreva toda a condição esteja em uma linha."
   ]
  },
  {
   "cell_type": "code",
   "execution_count": 3,
   "id": "0f28a79f",
   "metadata": {},
   "outputs": [
    {
     "name": "stdout",
     "output_type": "stream",
     "text": [
      "Quantos anos você tem? 12\n",
      "MENOR DE IDADE\n"
     ]
    }
   ],
   "source": [
    "idade = int(input(\"Quantos anos você tem? \"))\n",
    "print(\"MENOR DE IDADE\" if idade < 18 else \"MAIOR DE IDADE\")\n",
    "print(\"FIM\")"
   ]
  },
  {
   "cell_type": "markdown",
   "id": "7946cfa8",
   "metadata": {},
   "source": [
    "**[Exemplo 3]** Escreva um programa que leia uma string e retorne um bom dia ao user, dizendo que o nome dele é bonito se começar com a letra A, por exemplo."
   ]
  },
  {
   "cell_type": "code",
   "execution_count": 5,
   "id": "60cc9478",
   "metadata": {},
   "outputs": [
    {
     "name": "stdout",
     "output_type": "stream",
     "text": [
      "Qual o seu nome? Ana Paula\n",
      "Nome iniciados com a letra 'A' são muito bonitos!\n",
      "Bom dia, Ana Paula!\n"
     ]
    }
   ],
   "source": [
    "nome = str(input(\"Qual o seu nome? \")).strip()\n",
    "if nome.upper()[0] == \"A\":\n",
    "    print(\"Nome iniciados com a letra 'A' são muito bonitos!\")\n",
    "print(\"Bom dia, {}!\". format(nome))"
   ]
  },
  {
   "cell_type": "markdown",
   "id": "2764c636",
   "metadata": {},
   "source": [
    "**[Exemplo 4]** Escreva um programa que leia uma string e retorne um bom dia ao user, dizendo que o nome dele é bonito se começar com a letra A, por exemplo. Caso contrário, apenas diga que o nome é normal."
   ]
  },
  {
   "cell_type": "code",
   "execution_count": 6,
   "id": "b1cdd975",
   "metadata": {},
   "outputs": [
    {
     "name": "stdout",
     "output_type": "stream",
     "text": [
      "Qual o seu nome? Rodolfo\n",
      "Seu nome é bem normal!\n",
      "Bom dia, Rodolfo!\n"
     ]
    }
   ],
   "source": [
    "nome = str(input(\"Qual o seu nome? \")).strip()\n",
    "if nome.upper()[0] == \"A\":\n",
    "    print(\"Nome iniciados com a letra 'A' são muito bonitos!\")\n",
    "else:\n",
    "    print(\"Seu nome é bem normal!\")\n",
    "print(\"Bom dia, {}!\". format(nome))"
   ]
  },
  {
   "cell_type": "markdown",
   "id": "d719d6fe",
   "metadata": {},
   "source": [
    "**[Exemplo 5]** Escreva um programa que leia duas notas do user e calcule a média. Se a média for maior que 7, retorne APROVADO. Caso contrário, retorne REPROVADO."
   ]
  },
  {
   "cell_type": "code",
   "execution_count": 9,
   "id": "10367b18",
   "metadata": {},
   "outputs": [
    {
     "name": "stdout",
     "output_type": "stream",
     "text": [
      "Informe a primeira nota: 7\n",
      "Informe a segunda nota: 6.98\n",
      "Sua nota final é 6.99\n",
      "REPROVADO\n"
     ]
    }
   ],
   "source": [
    "N1 = float(input(\"Informe a primeira nota: \"))\n",
    "N2 = float(input(\"Informe a segunda nota: \"))\n",
    "M = (N1 + N2)/2\n",
    "print(\"Sua nota final é {:.2f}\".format(M))\n",
    "if M >= 7 :\n",
    "    print(\"APROVADO\")\n",
    "else:\n",
    "    print(\"REPROVADO\")"
   ]
  },
  {
   "cell_type": "markdown",
   "id": "4088b787",
   "metadata": {},
   "source": [
    "**[Exemplo 6]** Refaça o programa do exercício 5, mas em uma linha."
   ]
  },
  {
   "cell_type": "code",
   "execution_count": 10,
   "id": "0cb1871f",
   "metadata": {},
   "outputs": [
    {
     "name": "stdout",
     "output_type": "stream",
     "text": [
      "Informe a primeira nota: 6.91\n",
      "Informe a segunda nota: 6.99\n",
      "Sua nota final é 6.95\n",
      "REPROVADO\n"
     ]
    }
   ],
   "source": [
    "N1 = float(input(\"Informe a primeira nota: \"))\n",
    "N2 = float(input(\"Informe a segunda nota: \"))\n",
    "M = (N1 + N2)/2\n",
    "print(\"Sua nota final é {:.2f}\".format(M))\n",
    "print(\"APROVADO\" if M >= 7 else \"REPROVADO\")"
   ]
  },
  {
   "cell_type": "code",
   "execution_count": 11,
   "id": "65f6e058",
   "metadata": {},
   "outputs": [
    {
     "name": "stdout",
     "output_type": "stream",
     "text": [
      " \n",
      "\u001b[1;34mVocê é um mero andarilho, desbravando as terras de Py em busca de novas aventuras e conhecimentos, carregando consigo somente uma poção de cura e uma espada enferrujada e cansada de tantas batalhas, de repente você avista o espírito da preguiça e procrastinação, determinado a derrotá-lo para continuar sua incansável busca, você saca sua arma e parte para o ataque!\u001b[m\n",
      "\u001b[33m_\u001b[m\u001b[33m_\u001b[m\u001b[33m_\u001b[m\u001b[33m_\u001b[m\u001b[33m_\u001b[m\u001b[33m_\u001b[m\u001b[33m_\u001b[m\u001b[33m_\u001b[m\u001b[33m_\u001b[m\u001b[33m_\u001b[m\u001b[33m_\u001b[m\u001b[33m_\u001b[m\u001b[33m_\u001b[m\u001b[33m_\u001b[m\u001b[33m_\u001b[m\u001b[33m_\u001b[m\u001b[33m_\u001b[m\u001b[33m_\u001b[m\n",
      "Seu HP:\u001b[1;32m50\u001b[m\n",
      "HP do monstro:\u001b[1;32m50\u001b[m\n",
      "\u001b[33m_\u001b[m\u001b[33m_\u001b[m\u001b[33m_\u001b[m\u001b[33m_\u001b[m\u001b[33m_\u001b[m\u001b[33m_\u001b[m\u001b[33m_\u001b[m\u001b[33m_\u001b[m\u001b[33m_\u001b[m\u001b[33m_\u001b[m\u001b[33m_\u001b[m\u001b[33m_\u001b[m\u001b[33m_\u001b[m\u001b[33m_\u001b[m\u001b[33m_\u001b[m\u001b[33m_\u001b[m\u001b[33m_\u001b[m\u001b[33m_\u001b[m\n",
      " Digite atq para desferir um golpe:atq\n",
      "\u001b[1;36mVocê\u001b[m golpeia com tamanha força e agilidade que o monstro não tem a menor chance de se defender, causando \u001b[1;31m11\u001b[m de dano!\n",
      "Com toda a sua força, o \u001b[1;36mmonstro\u001b[m quebra a sua defesa e desfere \u001b[1;31m9\u001b[m de dano em você!\n",
      "\u001b[33m_\u001b[m\u001b[33m_\u001b[m\u001b[33m_\u001b[m\u001b[33m_\u001b[m\u001b[33m_\u001b[m\u001b[33m_\u001b[m\u001b[33m_\u001b[m\u001b[33m_\u001b[m\u001b[33m_\u001b[m\u001b[33m_\u001b[m\u001b[33m_\u001b[m\u001b[33m_\u001b[m\u001b[33m_\u001b[m\u001b[33m_\u001b[m\u001b[33m_\u001b[m\u001b[33m_\u001b[m\u001b[33m_\u001b[m\u001b[33m_\u001b[m\n",
      "Seu HP:\u001b[1;32m41\u001b[m\n",
      "HP do monstro:\u001b[1;32m39\u001b[m\n",
      "\u001b[33m_\u001b[m\u001b[33m_\u001b[m\u001b[33m_\u001b[m\u001b[33m_\u001b[m\u001b[33m_\u001b[m\u001b[33m_\u001b[m\u001b[33m_\u001b[m\u001b[33m_\u001b[m\u001b[33m_\u001b[m\u001b[33m_\u001b[m\u001b[33m_\u001b[m\u001b[33m_\u001b[m\u001b[33m_\u001b[m\u001b[33m_\u001b[m\u001b[33m_\u001b[m\u001b[33m_\u001b[m\u001b[33m_\u001b[m\u001b[33m_\u001b[m\n",
      " Digite atq para desferir um golpe:atq\n",
      "\u001b[1;36mVocê\u001b[m acerta de cheio e causa \u001b[1;31m7\u001b[m de dano!\n",
      "O \u001b[1;36mmonstro\u001b[m tenta rasgá-lo com suas garras, mas você se esquiva recebendo somente \u001b[1;31m1\u001b[m de dano!\n",
      "\u001b[33m_\u001b[m\u001b[33m_\u001b[m\u001b[33m_\u001b[m\u001b[33m_\u001b[m\u001b[33m_\u001b[m\u001b[33m_\u001b[m\u001b[33m_\u001b[m\u001b[33m_\u001b[m\u001b[33m_\u001b[m\u001b[33m_\u001b[m\u001b[33m_\u001b[m\u001b[33m_\u001b[m\u001b[33m_\u001b[m\u001b[33m_\u001b[m\u001b[33m_\u001b[m\u001b[33m_\u001b[m\u001b[33m_\u001b[m\u001b[33m_\u001b[m\n",
      "Seu HP:\u001b[1;32m40\u001b[m\n",
      "HP do monstro:\u001b[1;32m32\u001b[m\n",
      "\u001b[33m_\u001b[m\u001b[33m_\u001b[m\u001b[33m_\u001b[m\u001b[33m_\u001b[m\u001b[33m_\u001b[m\u001b[33m_\u001b[m\u001b[33m_\u001b[m\u001b[33m_\u001b[m\u001b[33m_\u001b[m\u001b[33m_\u001b[m\u001b[33m_\u001b[m\u001b[33m_\u001b[m\u001b[33m_\u001b[m\u001b[33m_\u001b[m\u001b[33m_\u001b[m\u001b[33m_\u001b[m\u001b[33m_\u001b[m\u001b[33m_\u001b[m\n",
      " Digite atq para desferir um golpe:atq\n",
      "\u001b[1;36mVocê\u001b[m golpeia com tamanha força e agilidade que o monstro não tem a menor chance de se defender, causando \u001b[1;31m11\u001b[m de dano!\n",
      "O \u001b[1;36mmonstro\u001b[m tenta rasgá-lo com suas garras, mas você se esquiva recebendo somente \u001b[1;31m2\u001b[m de dano!\n",
      "\u001b[33m_\u001b[m\u001b[33m_\u001b[m\u001b[33m_\u001b[m\u001b[33m_\u001b[m\u001b[33m_\u001b[m\u001b[33m_\u001b[m\u001b[33m_\u001b[m\u001b[33m_\u001b[m\u001b[33m_\u001b[m\u001b[33m_\u001b[m\u001b[33m_\u001b[m\u001b[33m_\u001b[m\u001b[33m_\u001b[m\u001b[33m_\u001b[m\u001b[33m_\u001b[m\u001b[33m_\u001b[m\u001b[33m_\u001b[m\u001b[33m_\u001b[m\n",
      "Seu HP:\u001b[1;32m38\u001b[m\n",
      "HP do monstro:\u001b[1;32m21\u001b[m\n",
      "\u001b[33m_\u001b[m\u001b[33m_\u001b[m\u001b[33m_\u001b[m\u001b[33m_\u001b[m\u001b[33m_\u001b[m\u001b[33m_\u001b[m\u001b[33m_\u001b[m\u001b[33m_\u001b[m\u001b[33m_\u001b[m\u001b[33m_\u001b[m\u001b[33m_\u001b[m\u001b[33m_\u001b[m\u001b[33m_\u001b[m\u001b[33m_\u001b[m\u001b[33m_\u001b[m\u001b[33m_\u001b[m\u001b[33m_\u001b[m\u001b[33m_\u001b[m\n",
      " Digite atq para desferir um golpe:atq\n",
      "\u001b[1;36mVocê\u001b[m acerta de cheio e causa \u001b[1;31m7\u001b[m de dano!\n",
      "O \u001b[1;36mmonstro\u001b[m tenta rasgá-lo com suas garras, mas você se esquiva recebendo somente \u001b[1;31m1\u001b[m de dano!\n",
      "\u001b[33m_\u001b[m\u001b[33m_\u001b[m\u001b[33m_\u001b[m\u001b[33m_\u001b[m\u001b[33m_\u001b[m\u001b[33m_\u001b[m\u001b[33m_\u001b[m\u001b[33m_\u001b[m\u001b[33m_\u001b[m\u001b[33m_\u001b[m\u001b[33m_\u001b[m\u001b[33m_\u001b[m\u001b[33m_\u001b[m\u001b[33m_\u001b[m\u001b[33m_\u001b[m\u001b[33m_\u001b[m\u001b[33m_\u001b[m\u001b[33m_\u001b[m\n",
      "Seu HP:\u001b[1;32m37\u001b[m\n",
      "HP do monstro:\u001b[1;32m14\u001b[m\n",
      "\u001b[33m_\u001b[m\u001b[33m_\u001b[m\u001b[33m_\u001b[m\u001b[33m_\u001b[m\u001b[33m_\u001b[m\u001b[33m_\u001b[m\u001b[33m_\u001b[m\u001b[33m_\u001b[m\u001b[33m_\u001b[m\u001b[33m_\u001b[m\u001b[33m_\u001b[m\u001b[33m_\u001b[m\u001b[33m_\u001b[m\u001b[33m_\u001b[m\u001b[33m_\u001b[m\u001b[33m_\u001b[m\u001b[33m_\u001b[m\u001b[33m_\u001b[m\n",
      " Digite atq para desferir um golpe:atq\n",
      "\u001b[1;36mVocê\u001b[m branda rapidamente a espada mas o monstro consegue se esquivar, causando um leve corte e \u001b[1;31m3\u001b[m de dano!\n",
      "O \u001b[1;36mmonstro\u001b[m tenta rasgá-lo com suas garras, mas você se esquiva recebendo somente \u001b[1;31m3\u001b[m de dano!\n",
      "\u001b[33m_\u001b[m\u001b[33m_\u001b[m\u001b[33m_\u001b[m\u001b[33m_\u001b[m\u001b[33m_\u001b[m\u001b[33m_\u001b[m\u001b[33m_\u001b[m\u001b[33m_\u001b[m\u001b[33m_\u001b[m\u001b[33m_\u001b[m\u001b[33m_\u001b[m\u001b[33m_\u001b[m\u001b[33m_\u001b[m\u001b[33m_\u001b[m\u001b[33m_\u001b[m\u001b[33m_\u001b[m\u001b[33m_\u001b[m\u001b[33m_\u001b[m\n",
      "Seu HP:\u001b[1;32m34\u001b[m\n",
      "HP do monstro:\u001b[1;32m11\u001b[m\n",
      "\u001b[33m_\u001b[m\u001b[33m_\u001b[m\u001b[33m_\u001b[m\u001b[33m_\u001b[m\u001b[33m_\u001b[m\u001b[33m_\u001b[m\u001b[33m_\u001b[m\u001b[33m_\u001b[m\u001b[33m_\u001b[m\u001b[33m_\u001b[m\u001b[33m_\u001b[m\u001b[33m_\u001b[m\u001b[33m_\u001b[m\u001b[33m_\u001b[m\u001b[33m_\u001b[m\u001b[33m_\u001b[m\u001b[33m_\u001b[m\u001b[33m_\u001b[m\n",
      " Digite atq para desferir um golpe:atq\n",
      "\u001b[1;36mVocê\u001b[m branda rapidamente a espada mas o monstro consegue se esquivar, causando um leve corte e \u001b[1;31m4\u001b[m de dano!\n",
      "O \u001b[1;36mmonstro\u001b[m tenta rasgá-lo com suas garras, mas você se esquiva recebendo somente \u001b[1;31m3\u001b[m de dano!\n",
      "\u001b[33m_\u001b[m\u001b[33m_\u001b[m\u001b[33m_\u001b[m\u001b[33m_\u001b[m\u001b[33m_\u001b[m\u001b[33m_\u001b[m\u001b[33m_\u001b[m\u001b[33m_\u001b[m\u001b[33m_\u001b[m\u001b[33m_\u001b[m\u001b[33m_\u001b[m\u001b[33m_\u001b[m\u001b[33m_\u001b[m\u001b[33m_\u001b[m\u001b[33m_\u001b[m\u001b[33m_\u001b[m\u001b[33m_\u001b[m\u001b[33m_\u001b[m\n",
      "Seu HP:\u001b[1;32m31\u001b[m\n",
      "HP do monstro:\u001b[1;32m7\u001b[m\n",
      "\u001b[33m_\u001b[m\u001b[33m_\u001b[m\u001b[33m_\u001b[m\u001b[33m_\u001b[m\u001b[33m_\u001b[m\u001b[33m_\u001b[m\u001b[33m_\u001b[m\u001b[33m_\u001b[m\u001b[33m_\u001b[m\u001b[33m_\u001b[m\u001b[33m_\u001b[m\u001b[33m_\u001b[m\u001b[33m_\u001b[m\u001b[33m_\u001b[m\u001b[33m_\u001b[m\u001b[33m_\u001b[m\u001b[33m_\u001b[m\u001b[33m_\u001b[m\n",
      " Digite atq para desferir um golpe:atq\n",
      "\u001b[1;36mVocê\u001b[m golpeia com tamanha força e agilidade que o monstro não tem a menor chance de se defender, causando \u001b[1;31m12\u001b[m de dano!\n",
      "O \u001b[1;36mmonstro\u001b[m tenta rasgá-lo com suas garras, mas você se esquiva recebendo somente \u001b[1;31m4\u001b[m de dano!\n",
      "\u001b[33m_\u001b[m\u001b[33m_\u001b[m\u001b[33m_\u001b[m\u001b[33m_\u001b[m\u001b[33m_\u001b[m\u001b[33m_\u001b[m\u001b[33m_\u001b[m\u001b[33m_\u001b[m\u001b[33m_\u001b[m\u001b[33m_\u001b[m\u001b[33m_\u001b[m\u001b[33m_\u001b[m\u001b[33m_\u001b[m\u001b[33m_\u001b[m\u001b[33m_\u001b[m\u001b[33m_\u001b[m\u001b[33m_\u001b[m\u001b[33m_\u001b[m\n",
      "Seu HP:\u001b[1;32m27\u001b[m\n",
      "HP do monstro:\u001b[1;32m-5\u001b[m\n",
      "\u001b[33m_\u001b[m\u001b[33m_\u001b[m\u001b[33m_\u001b[m\u001b[33m_\u001b[m\u001b[33m_\u001b[m\u001b[33m_\u001b[m\u001b[33m_\u001b[m\u001b[33m_\u001b[m\u001b[33m_\u001b[m\u001b[33m_\u001b[m\u001b[33m_\u001b[m\u001b[33m_\u001b[m\u001b[33m_\u001b[m\u001b[33m_\u001b[m\u001b[33m_\u001b[m\u001b[33m_\u001b[m\u001b[33m_\u001b[m\u001b[33m_\u001b[m\n",
      "\u001b[34mSubjulgado pela sua lâmina, o monstro cai ao chão e você terá mais um dia de conquistas e aprendizados no Reino de PY!\u001b[m\n"
     ]
    }
   ],
   "source": [
    "import random\n",
    "print(' ')\n",
    "print('\\033[1;34mVocê é um mero andarilho, desbravando as terras de Py em busca de novas aventuras e conhecimentos, carregando consigo somente uma poção de cura e uma espada enferrujada e cansada de tantas batalhas, de repente você avista o espírito da preguiça e procrastinação, determinado a derrotá-lo para continuar sua incansável busca, você saca sua arma e parte para o ataque!\\033[m')\n",
    "\n",
    "player = 50\n",
    "monstro = 50\n",
    "pot = 5\n",
    "\n",
    "print('\\033[33m_\\033[m'* 18 )\n",
    "print(f'Seu HP:\\033[1;32m{player}\\033[m')\n",
    "print(f'HP do monstro:\\033[1;32m{monstro}\\033[m')\n",
    "print('\\033[33m_\\033[m'* 18 )\n",
    "\n",
    "while player > 0 and monstro > 0:\n",
    "    input('\\033[1;35m Digite atq para desferir um golpe:\\033[m')\n",
    "    danom = random.randrange(1,13)\n",
    "    monstro = monstro - danom\n",
    "    if danom <= 4:\n",
    "        print(f'\\033[1;36mVocê\\033[m branda rapidamente a espada mas o monstro consegue se esquivar, causando um leve corte e \\033[1;31m{danom}\\033[m de dano!')\n",
    "    elif danom < 8 and danom >= 5:\n",
    "        print(f'\\033[1;36mVocê\\033[m acerta de cheio e causa \\033[1;31m{danom}\\033[m de dano!')\n",
    "    else:\n",
    "        print(f'\\033[1;36mVocê\\033[m golpeia com tamanha força e agilidade que o monstro não tem a menor chance de se defender, causando \\033[1;31m{danom}\\033[m de dano!')\n",
    "    danop = random.randrange(1,13)\n",
    "    player = player - danop\n",
    "    if danop <= 4:\n",
    "        print(f'O \\033[1;36mmonstro\\033[m tenta rasgá-lo com suas garras, mas você se esquiva recebendo somente \\033[1;31m{danop}\\033[m de dano!')\n",
    "    elif danop < 8 and danop >= 5:\n",
    "        print(f'Sem chances para defesa, o \\033[1;36mmonstro\\033[m causa \\033[1;31m{danop}\\033[m de dano em você!')\n",
    "    else:\n",
    "        print(f'Com toda a sua força, o \\033[1;36mmonstro\\033[m quebra a sua defesa e desfere \\033[1;31m{danop}\\033[m de dano em você!')\n",
    "    print('\\033[33m_\\033[m'* 18 )\n",
    "    print(f'Seu HP:\\033[1;32m{player}\\033[m')\n",
    "    print(f'HP do monstro:\\033[1;32m{monstro}\\033[m')\n",
    "    print('\\033[33m_\\033[m'* 18 )\n",
    "    if monstro <= 0 and player > 0:\n",
    "        print('\\033[34mSubjulgado pela sua lâmina, o monstro cai ao chão e você terá mais um dia de conquistas e aprendizados no Reino de PY!\\033[m')\n",
    "    elif player <= 0 and monstro >0:\n",
    "        print('\\033[31mvocê teve determinação, mas o monstro da preguiça e procrastinação foi mais forte, mas não desista, sempre há outro dia!\\033[m')\n",
    "    elif player <= 0 and monstro <= 0:\n",
    "        print('\\033[33mVocê e o monstro desferem um último golpe simultâneo fazendo com que ambos caiam no chão derrotados!\\033[m')\n",
    "    if player <= 20 and player > 0 and pot == 5 and monstro > 0:\n",
    "        print('\\033[1;30;41m Atenção, seu HP está baixo,deseja usar poção de cura?\\033[m')\n",
    "        r = str(input('Sim ou Não?')).upper().strip()\n",
    "        if r == 'SIM':\n",
    "            print(f'\\033[1;32mVocê usa a poção de cura e regenera {pot} de HP!\\033[m')\n",
    "            player = player + pot\n",
    "            pot = 0\n",
    "            print(f'Seu HP: \\033[1;32m{player}\\033[m')\n",
    "        if r != 'SIM':\n",
    "            pot= 0\n",
    "    if monstro == 1 and player > 0:\n",
    "        monstro = monstro + 5\n",
    "        print('\\033[1;31mA um fio da morte, o monstro usa sua magia de cura e recebe +5 de HP\\033[m')\n",
    "        print(f'HP do monstro:\\033[1;32m{monstro}\\033[m')"
   ]
  },
  {
   "cell_type": "code",
   "execution_count": null,
   "id": "8c01ab50",
   "metadata": {},
   "outputs": [],
   "source": []
  }
 ],
 "metadata": {
  "kernelspec": {
   "display_name": "Python 3 (ipykernel)",
   "language": "python",
   "name": "python3"
  },
  "language_info": {
   "codemirror_mode": {
    "name": "ipython",
    "version": 3
   },
   "file_extension": ".py",
   "mimetype": "text/x-python",
   "name": "python",
   "nbconvert_exporter": "python",
   "pygments_lexer": "ipython3",
   "version": "3.9.12"
  }
 },
 "nbformat": 4,
 "nbformat_minor": 5
}
